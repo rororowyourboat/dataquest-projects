{
 "cells": [
  {
   "cell_type": "markdown",
   "metadata": {},
   "source": [
    "# Cleaning and analyzing employee exit surveys"
   ]
  },
  {
   "cell_type": "code",
   "execution_count": 1,
   "metadata": {},
   "outputs": [],
   "source": [
    "import pandas as pd \n",
    "import numpy as np"
   ]
  },
  {
   "cell_type": "code",
   "execution_count": 3,
   "metadata": {},
   "outputs": [],
   "source": [
    "dete_survey=pd.read_csv('dete_survey.csv')\n",
    "tafe_survey=pd.read_csv('dete_survey.csv')"
   ]
  },
  {
   "cell_type": "code",
   "execution_count": 4,
   "metadata": {},
   "outputs": [
    {
     "output_type": "execute_result",
     "data": {
      "text/plain": "   ID                    SeparationType Cease Date DETE Start Date  \\\n0   1             Ill Health Retirement    08/2012            1984   \n1   2  Voluntary Early Retirement (VER)    08/2012      Not Stated   \n2   3  Voluntary Early Retirement (VER)    05/2012            2011   \n3   4         Resignation-Other reasons    05/2012            2005   \n4   5                    Age Retirement    05/2012            1970   \n\n  Role Start Date                                      Position  \\\n0            2004                                Public Servant   \n1      Not Stated                                Public Servant   \n2            2011                               Schools Officer   \n3            2006                                       Teacher   \n4            1989  Head of Curriculum/Head of Special Education   \n\n  Classification              Region                      Business Unit  \\\n0        A01-A04      Central Office  Corporate Strategy and Peformance   \n1        AO5-AO7      Central Office  Corporate Strategy and Peformance   \n2            NaN      Central Office               Education Queensland   \n3        Primary  Central Queensland                                NaN   \n4            NaN          South East                                NaN   \n\n     Employment Status  ...  Kept informed  Wellness programs  \\\n0  Permanent Full-time  ...              N                  N   \n1  Permanent Full-time  ...              N                  N   \n2  Permanent Full-time  ...              N                  N   \n3  Permanent Full-time  ...              A                  N   \n4  Permanent Full-time  ...              N                  A   \n\n   Health & Safety  Gender          Age  Aboriginal  Torres Strait  South Sea  \\\n0                N    Male        56-60         NaN            NaN        NaN   \n1                N    Male        56-60         NaN            NaN        NaN   \n2                N    Male  61 or older         NaN            NaN        NaN   \n3                A  Female        36-40         NaN            NaN        NaN   \n4                M  Female  61 or older         NaN            NaN        NaN   \n\n   Disability  NESB  \n0         NaN   Yes  \n1         NaN   NaN  \n2         NaN   NaN  \n3         NaN   NaN  \n4         NaN   NaN  \n\n[5 rows x 56 columns]",
      "text/html": "<div>\n<style scoped>\n    .dataframe tbody tr th:only-of-type {\n        vertical-align: middle;\n    }\n\n    .dataframe tbody tr th {\n        vertical-align: top;\n    }\n\n    .dataframe thead th {\n        text-align: right;\n    }\n</style>\n<table border=\"1\" class=\"dataframe\">\n  <thead>\n    <tr style=\"text-align: right;\">\n      <th></th>\n      <th>ID</th>\n      <th>SeparationType</th>\n      <th>Cease Date</th>\n      <th>DETE Start Date</th>\n      <th>Role Start Date</th>\n      <th>Position</th>\n      <th>Classification</th>\n      <th>Region</th>\n      <th>Business Unit</th>\n      <th>Employment Status</th>\n      <th>...</th>\n      <th>Kept informed</th>\n      <th>Wellness programs</th>\n      <th>Health &amp; Safety</th>\n      <th>Gender</th>\n      <th>Age</th>\n      <th>Aboriginal</th>\n      <th>Torres Strait</th>\n      <th>South Sea</th>\n      <th>Disability</th>\n      <th>NESB</th>\n    </tr>\n  </thead>\n  <tbody>\n    <tr>\n      <th>0</th>\n      <td>1</td>\n      <td>Ill Health Retirement</td>\n      <td>08/2012</td>\n      <td>1984</td>\n      <td>2004</td>\n      <td>Public Servant</td>\n      <td>A01-A04</td>\n      <td>Central Office</td>\n      <td>Corporate Strategy and Peformance</td>\n      <td>Permanent Full-time</td>\n      <td>...</td>\n      <td>N</td>\n      <td>N</td>\n      <td>N</td>\n      <td>Male</td>\n      <td>56-60</td>\n      <td>NaN</td>\n      <td>NaN</td>\n      <td>NaN</td>\n      <td>NaN</td>\n      <td>Yes</td>\n    </tr>\n    <tr>\n      <th>1</th>\n      <td>2</td>\n      <td>Voluntary Early Retirement (VER)</td>\n      <td>08/2012</td>\n      <td>Not Stated</td>\n      <td>Not Stated</td>\n      <td>Public Servant</td>\n      <td>AO5-AO7</td>\n      <td>Central Office</td>\n      <td>Corporate Strategy and Peformance</td>\n      <td>Permanent Full-time</td>\n      <td>...</td>\n      <td>N</td>\n      <td>N</td>\n      <td>N</td>\n      <td>Male</td>\n      <td>56-60</td>\n      <td>NaN</td>\n      <td>NaN</td>\n      <td>NaN</td>\n      <td>NaN</td>\n      <td>NaN</td>\n    </tr>\n    <tr>\n      <th>2</th>\n      <td>3</td>\n      <td>Voluntary Early Retirement (VER)</td>\n      <td>05/2012</td>\n      <td>2011</td>\n      <td>2011</td>\n      <td>Schools Officer</td>\n      <td>NaN</td>\n      <td>Central Office</td>\n      <td>Education Queensland</td>\n      <td>Permanent Full-time</td>\n      <td>...</td>\n      <td>N</td>\n      <td>N</td>\n      <td>N</td>\n      <td>Male</td>\n      <td>61 or older</td>\n      <td>NaN</td>\n      <td>NaN</td>\n      <td>NaN</td>\n      <td>NaN</td>\n      <td>NaN</td>\n    </tr>\n    <tr>\n      <th>3</th>\n      <td>4</td>\n      <td>Resignation-Other reasons</td>\n      <td>05/2012</td>\n      <td>2005</td>\n      <td>2006</td>\n      <td>Teacher</td>\n      <td>Primary</td>\n      <td>Central Queensland</td>\n      <td>NaN</td>\n      <td>Permanent Full-time</td>\n      <td>...</td>\n      <td>A</td>\n      <td>N</td>\n      <td>A</td>\n      <td>Female</td>\n      <td>36-40</td>\n      <td>NaN</td>\n      <td>NaN</td>\n      <td>NaN</td>\n      <td>NaN</td>\n      <td>NaN</td>\n    </tr>\n    <tr>\n      <th>4</th>\n      <td>5</td>\n      <td>Age Retirement</td>\n      <td>05/2012</td>\n      <td>1970</td>\n      <td>1989</td>\n      <td>Head of Curriculum/Head of Special Education</td>\n      <td>NaN</td>\n      <td>South East</td>\n      <td>NaN</td>\n      <td>Permanent Full-time</td>\n      <td>...</td>\n      <td>N</td>\n      <td>A</td>\n      <td>M</td>\n      <td>Female</td>\n      <td>61 or older</td>\n      <td>NaN</td>\n      <td>NaN</td>\n      <td>NaN</td>\n      <td>NaN</td>\n      <td>NaN</td>\n    </tr>\n  </tbody>\n</table>\n<p>5 rows × 56 columns</p>\n</div>"
     },
     "metadata": {},
     "execution_count": 4
    }
   ],
   "source": [
    "dete_survey.head()"
   ]
  },
  {
   "cell_type": "code",
   "execution_count": null,
   "metadata": {},
   "outputs": [],
   "source": []
  },
  {
   "cell_type": "code",
   "execution_count": null,
   "metadata": {},
   "outputs": [],
   "source": []
  },
  {
   "cell_type": "code",
   "execution_count": null,
   "metadata": {},
   "outputs": [],
   "source": []
  },
  {
   "cell_type": "code",
   "execution_count": null,
   "metadata": {},
   "outputs": [],
   "source": []
  },
  {
   "cell_type": "code",
   "execution_count": null,
   "metadata": {},
   "outputs": [],
   "source": []
  },
  {
   "cell_type": "code",
   "execution_count": null,
   "metadata": {},
   "outputs": [],
   "source": []
  },
  {
   "cell_type": "code",
   "execution_count": null,
   "metadata": {},
   "outputs": [],
   "source": []
  },
  {
   "cell_type": "code",
   "execution_count": 5,
   "metadata": {},
   "outputs": [
    {
     "output_type": "execute_result",
     "data": {
      "text/plain": "   ID                    SeparationType Cease Date DETE Start Date  \\\n0   1             Ill Health Retirement    08/2012            1984   \n1   2  Voluntary Early Retirement (VER)    08/2012      Not Stated   \n2   3  Voluntary Early Retirement (VER)    05/2012            2011   \n3   4         Resignation-Other reasons    05/2012            2005   \n4   5                    Age Retirement    05/2012            1970   \n\n  Role Start Date                                      Position  \\\n0            2004                                Public Servant   \n1      Not Stated                                Public Servant   \n2            2011                               Schools Officer   \n3            2006                                       Teacher   \n4            1989  Head of Curriculum/Head of Special Education   \n\n  Classification              Region                      Business Unit  \\\n0        A01-A04      Central Office  Corporate Strategy and Peformance   \n1        AO5-AO7      Central Office  Corporate Strategy and Peformance   \n2            NaN      Central Office               Education Queensland   \n3        Primary  Central Queensland                                NaN   \n4            NaN          South East                                NaN   \n\n     Employment Status  ...  Kept informed  Wellness programs  \\\n0  Permanent Full-time  ...              N                  N   \n1  Permanent Full-time  ...              N                  N   \n2  Permanent Full-time  ...              N                  N   \n3  Permanent Full-time  ...              A                  N   \n4  Permanent Full-time  ...              N                  A   \n\n   Health & Safety  Gender          Age  Aboriginal  Torres Strait  South Sea  \\\n0                N    Male        56-60         NaN            NaN        NaN   \n1                N    Male        56-60         NaN            NaN        NaN   \n2                N    Male  61 or older         NaN            NaN        NaN   \n3                A  Female        36-40         NaN            NaN        NaN   \n4                M  Female  61 or older         NaN            NaN        NaN   \n\n   Disability  NESB  \n0         NaN   Yes  \n1         NaN   NaN  \n2         NaN   NaN  \n3         NaN   NaN  \n4         NaN   NaN  \n\n[5 rows x 56 columns]",
      "text/html": "<div>\n<style scoped>\n    .dataframe tbody tr th:only-of-type {\n        vertical-align: middle;\n    }\n\n    .dataframe tbody tr th {\n        vertical-align: top;\n    }\n\n    .dataframe thead th {\n        text-align: right;\n    }\n</style>\n<table border=\"1\" class=\"dataframe\">\n  <thead>\n    <tr style=\"text-align: right;\">\n      <th></th>\n      <th>ID</th>\n      <th>SeparationType</th>\n      <th>Cease Date</th>\n      <th>DETE Start Date</th>\n      <th>Role Start Date</th>\n      <th>Position</th>\n      <th>Classification</th>\n      <th>Region</th>\n      <th>Business Unit</th>\n      <th>Employment Status</th>\n      <th>...</th>\n      <th>Kept informed</th>\n      <th>Wellness programs</th>\n      <th>Health &amp; Safety</th>\n      <th>Gender</th>\n      <th>Age</th>\n      <th>Aboriginal</th>\n      <th>Torres Strait</th>\n      <th>South Sea</th>\n      <th>Disability</th>\n      <th>NESB</th>\n    </tr>\n  </thead>\n  <tbody>\n    <tr>\n      <th>0</th>\n      <td>1</td>\n      <td>Ill Health Retirement</td>\n      <td>08/2012</td>\n      <td>1984</td>\n      <td>2004</td>\n      <td>Public Servant</td>\n      <td>A01-A04</td>\n      <td>Central Office</td>\n      <td>Corporate Strategy and Peformance</td>\n      <td>Permanent Full-time</td>\n      <td>...</td>\n      <td>N</td>\n      <td>N</td>\n      <td>N</td>\n      <td>Male</td>\n      <td>56-60</td>\n      <td>NaN</td>\n      <td>NaN</td>\n      <td>NaN</td>\n      <td>NaN</td>\n      <td>Yes</td>\n    </tr>\n    <tr>\n      <th>1</th>\n      <td>2</td>\n      <td>Voluntary Early Retirement (VER)</td>\n      <td>08/2012</td>\n      <td>Not Stated</td>\n      <td>Not Stated</td>\n      <td>Public Servant</td>\n      <td>AO5-AO7</td>\n      <td>Central Office</td>\n      <td>Corporate Strategy and Peformance</td>\n      <td>Permanent Full-time</td>\n      <td>...</td>\n      <td>N</td>\n      <td>N</td>\n      <td>N</td>\n      <td>Male</td>\n      <td>56-60</td>\n      <td>NaN</td>\n      <td>NaN</td>\n      <td>NaN</td>\n      <td>NaN</td>\n      <td>NaN</td>\n    </tr>\n    <tr>\n      <th>2</th>\n      <td>3</td>\n      <td>Voluntary Early Retirement (VER)</td>\n      <td>05/2012</td>\n      <td>2011</td>\n      <td>2011</td>\n      <td>Schools Officer</td>\n      <td>NaN</td>\n      <td>Central Office</td>\n      <td>Education Queensland</td>\n      <td>Permanent Full-time</td>\n      <td>...</td>\n      <td>N</td>\n      <td>N</td>\n      <td>N</td>\n      <td>Male</td>\n      <td>61 or older</td>\n      <td>NaN</td>\n      <td>NaN</td>\n      <td>NaN</td>\n      <td>NaN</td>\n      <td>NaN</td>\n    </tr>\n    <tr>\n      <th>3</th>\n      <td>4</td>\n      <td>Resignation-Other reasons</td>\n      <td>05/2012</td>\n      <td>2005</td>\n      <td>2006</td>\n      <td>Teacher</td>\n      <td>Primary</td>\n      <td>Central Queensland</td>\n      <td>NaN</td>\n      <td>Permanent Full-time</td>\n      <td>...</td>\n      <td>A</td>\n      <td>N</td>\n      <td>A</td>\n      <td>Female</td>\n      <td>36-40</td>\n      <td>NaN</td>\n      <td>NaN</td>\n      <td>NaN</td>\n      <td>NaN</td>\n      <td>NaN</td>\n    </tr>\n    <tr>\n      <th>4</th>\n      <td>5</td>\n      <td>Age Retirement</td>\n      <td>05/2012</td>\n      <td>1970</td>\n      <td>1989</td>\n      <td>Head of Curriculum/Head of Special Education</td>\n      <td>NaN</td>\n      <td>South East</td>\n      <td>NaN</td>\n      <td>Permanent Full-time</td>\n      <td>...</td>\n      <td>N</td>\n      <td>A</td>\n      <td>M</td>\n      <td>Female</td>\n      <td>61 or older</td>\n      <td>NaN</td>\n      <td>NaN</td>\n      <td>NaN</td>\n      <td>NaN</td>\n      <td>NaN</td>\n    </tr>\n  </tbody>\n</table>\n<p>5 rows × 56 columns</p>\n</div>"
     },
     "metadata": {},
     "execution_count": 5
    }
   ],
   "source": [
    "tafe_survey.head()"
   ]
  },
  {
   "cell_type": "code",
   "execution_count": null,
   "metadata": {},
   "outputs": [],
   "source": []
  }
 ],
 "metadata": {
  "language_info": {
   "codemirror_mode": {
    "name": "ipython",
    "version": 3
   },
   "file_extension": ".py",
   "mimetype": "text/x-python",
   "name": "python",
   "nbconvert_exporter": "python",
   "pygments_lexer": "ipython3",
   "version": "3.7.3-final"
  },
  "orig_nbformat": 2,
  "kernelspec": {
   "name": "python3",
   "display_name": "Python 3"
  }
 },
 "nbformat": 4,
 "nbformat_minor": 2
}
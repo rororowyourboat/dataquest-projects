{
 "cells": [
  {
   "cell_type": "markdown",
   "metadata": {},
   "source": [
    "# Cleaning and analyzing employee exit surveys"
   ]
  },
  {
   "cell_type": "markdown",
   "metadata": {},
   "source": [
    "1) Are employees who only worked for the institutes for a short period of time resigning due to some kind of dissatisfaction? What about employees who have been there longer?\n",
    "\n",
    "2) Are younger employees resigning due to some kind of dissatisfaction? What about older employees?"
   ]
  },
  {
   "cell_type": "code",
   "execution_count": 35,
   "metadata": {},
   "outputs": [],
   "source": [
    "import pandas as pd \n",
    "import numpy as np"
   ]
  },
  {
   "cell_type": "code",
   "execution_count": 36,
   "metadata": {},
   "outputs": [],
   "source": [
    "dete_survey=pd.read_csv('dete_survey.csv')\n",
    "tafe_survey=pd.read_csv('tafe_survey.csv')"
   ]
  },
  {
   "cell_type": "code",
   "execution_count": 37,
   "metadata": {},
   "outputs": [
    {
     "output_type": "execute_result",
     "data": {
      "text/plain": "   ID                    SeparationType Cease Date DETE Start Date  \\\n0   1             Ill Health Retirement    08/2012            1984   \n1   2  Voluntary Early Retirement (VER)    08/2012      Not Stated   \n2   3  Voluntary Early Retirement (VER)    05/2012            2011   \n3   4         Resignation-Other reasons    05/2012            2005   \n4   5                    Age Retirement    05/2012            1970   \n\n  Role Start Date                                      Position  \\\n0            2004                                Public Servant   \n1      Not Stated                                Public Servant   \n2            2011                               Schools Officer   \n3            2006                                       Teacher   \n4            1989  Head of Curriculum/Head of Special Education   \n\n  Classification              Region                      Business Unit  \\\n0        A01-A04      Central Office  Corporate Strategy and Peformance   \n1        AO5-AO7      Central Office  Corporate Strategy and Peformance   \n2            NaN      Central Office               Education Queensland   \n3        Primary  Central Queensland                                NaN   \n4            NaN          South East                                NaN   \n\n     Employment Status  ...  Kept informed  Wellness programs  \\\n0  Permanent Full-time  ...              N                  N   \n1  Permanent Full-time  ...              N                  N   \n2  Permanent Full-time  ...              N                  N   \n3  Permanent Full-time  ...              A                  N   \n4  Permanent Full-time  ...              N                  A   \n\n   Health & Safety  Gender          Age  Aboriginal  Torres Strait  South Sea  \\\n0                N    Male        56-60         NaN            NaN        NaN   \n1                N    Male        56-60         NaN            NaN        NaN   \n2                N    Male  61 or older         NaN            NaN        NaN   \n3                A  Female        36-40         NaN            NaN        NaN   \n4                M  Female  61 or older         NaN            NaN        NaN   \n\n   Disability  NESB  \n0         NaN   Yes  \n1         NaN   NaN  \n2         NaN   NaN  \n3         NaN   NaN  \n4         NaN   NaN  \n\n[5 rows x 56 columns]",
      "text/html": "<div>\n<style scoped>\n    .dataframe tbody tr th:only-of-type {\n        vertical-align: middle;\n    }\n\n    .dataframe tbody tr th {\n        vertical-align: top;\n    }\n\n    .dataframe thead th {\n        text-align: right;\n    }\n</style>\n<table border=\"1\" class=\"dataframe\">\n  <thead>\n    <tr style=\"text-align: right;\">\n      <th></th>\n      <th>ID</th>\n      <th>SeparationType</th>\n      <th>Cease Date</th>\n      <th>DETE Start Date</th>\n      <th>Role Start Date</th>\n      <th>Position</th>\n      <th>Classification</th>\n      <th>Region</th>\n      <th>Business Unit</th>\n      <th>Employment Status</th>\n      <th>...</th>\n      <th>Kept informed</th>\n      <th>Wellness programs</th>\n      <th>Health &amp; Safety</th>\n      <th>Gender</th>\n      <th>Age</th>\n      <th>Aboriginal</th>\n      <th>Torres Strait</th>\n      <th>South Sea</th>\n      <th>Disability</th>\n      <th>NESB</th>\n    </tr>\n  </thead>\n  <tbody>\n    <tr>\n      <th>0</th>\n      <td>1</td>\n      <td>Ill Health Retirement</td>\n      <td>08/2012</td>\n      <td>1984</td>\n      <td>2004</td>\n      <td>Public Servant</td>\n      <td>A01-A04</td>\n      <td>Central Office</td>\n      <td>Corporate Strategy and Peformance</td>\n      <td>Permanent Full-time</td>\n      <td>...</td>\n      <td>N</td>\n      <td>N</td>\n      <td>N</td>\n      <td>Male</td>\n      <td>56-60</td>\n      <td>NaN</td>\n      <td>NaN</td>\n      <td>NaN</td>\n      <td>NaN</td>\n      <td>Yes</td>\n    </tr>\n    <tr>\n      <th>1</th>\n      <td>2</td>\n      <td>Voluntary Early Retirement (VER)</td>\n      <td>08/2012</td>\n      <td>Not Stated</td>\n      <td>Not Stated</td>\n      <td>Public Servant</td>\n      <td>AO5-AO7</td>\n      <td>Central Office</td>\n      <td>Corporate Strategy and Peformance</td>\n      <td>Permanent Full-time</td>\n      <td>...</td>\n      <td>N</td>\n      <td>N</td>\n      <td>N</td>\n      <td>Male</td>\n      <td>56-60</td>\n      <td>NaN</td>\n      <td>NaN</td>\n      <td>NaN</td>\n      <td>NaN</td>\n      <td>NaN</td>\n    </tr>\n    <tr>\n      <th>2</th>\n      <td>3</td>\n      <td>Voluntary Early Retirement (VER)</td>\n      <td>05/2012</td>\n      <td>2011</td>\n      <td>2011</td>\n      <td>Schools Officer</td>\n      <td>NaN</td>\n      <td>Central Office</td>\n      <td>Education Queensland</td>\n      <td>Permanent Full-time</td>\n      <td>...</td>\n      <td>N</td>\n      <td>N</td>\n      <td>N</td>\n      <td>Male</td>\n      <td>61 or older</td>\n      <td>NaN</td>\n      <td>NaN</td>\n      <td>NaN</td>\n      <td>NaN</td>\n      <td>NaN</td>\n    </tr>\n    <tr>\n      <th>3</th>\n      <td>4</td>\n      <td>Resignation-Other reasons</td>\n      <td>05/2012</td>\n      <td>2005</td>\n      <td>2006</td>\n      <td>Teacher</td>\n      <td>Primary</td>\n      <td>Central Queensland</td>\n      <td>NaN</td>\n      <td>Permanent Full-time</td>\n      <td>...</td>\n      <td>A</td>\n      <td>N</td>\n      <td>A</td>\n      <td>Female</td>\n      <td>36-40</td>\n      <td>NaN</td>\n      <td>NaN</td>\n      <td>NaN</td>\n      <td>NaN</td>\n      <td>NaN</td>\n    </tr>\n    <tr>\n      <th>4</th>\n      <td>5</td>\n      <td>Age Retirement</td>\n      <td>05/2012</td>\n      <td>1970</td>\n      <td>1989</td>\n      <td>Head of Curriculum/Head of Special Education</td>\n      <td>NaN</td>\n      <td>South East</td>\n      <td>NaN</td>\n      <td>Permanent Full-time</td>\n      <td>...</td>\n      <td>N</td>\n      <td>A</td>\n      <td>M</td>\n      <td>Female</td>\n      <td>61 or older</td>\n      <td>NaN</td>\n      <td>NaN</td>\n      <td>NaN</td>\n      <td>NaN</td>\n      <td>NaN</td>\n    </tr>\n  </tbody>\n</table>\n<p>5 rows × 56 columns</p>\n</div>"
     },
     "metadata": {},
     "execution_count": 37
    }
   ],
   "source": [
    "dete_survey.head()"
   ]
  },
  {
   "cell_type": "code",
   "execution_count": 38,
   "metadata": {},
   "outputs": [
    {
     "output_type": "stream",
     "name": "stdout",
     "text": "<class 'pandas.core.frame.DataFrame'>\nRangeIndex: 822 entries, 0 to 821\nData columns (total 56 columns):\nID                                     822 non-null int64\nSeparationType                         822 non-null object\nCease Date                             822 non-null object\nDETE Start Date                        822 non-null object\nRole Start Date                        822 non-null object\nPosition                               817 non-null object\nClassification                         455 non-null object\nRegion                                 822 non-null object\nBusiness Unit                          126 non-null object\nEmployment Status                      817 non-null object\nCareer move to public sector           822 non-null bool\nCareer move to private sector          822 non-null bool\nInterpersonal conflicts                822 non-null bool\nJob dissatisfaction                    822 non-null bool\nDissatisfaction with the department    822 non-null bool\nPhysical work environment              822 non-null bool\nLack of recognition                    822 non-null bool\nLack of job security                   822 non-null bool\nWork location                          822 non-null bool\nEmployment conditions                  822 non-null bool\nMaternity/family                       822 non-null bool\nRelocation                             822 non-null bool\nStudy/Travel                           822 non-null bool\nIll Health                             822 non-null bool\nTraumatic incident                     822 non-null bool\nWork life balance                      822 non-null bool\nWorkload                               822 non-null bool\nNone of the above                      822 non-null bool\nProfessional Development               808 non-null object\nOpportunities for promotion            735 non-null object\nStaff morale                           816 non-null object\nWorkplace issue                        788 non-null object\nPhysical environment                   817 non-null object\nWorklife balance                       815 non-null object\nStress and pressure support            810 non-null object\nPerformance of supervisor              813 non-null object\nPeer support                           812 non-null object\nInitiative                             813 non-null object\nSkills                                 811 non-null object\nCoach                                  767 non-null object\nCareer Aspirations                     746 non-null object\nFeedback                               792 non-null object\nFurther PD                             768 non-null object\nCommunication                          814 non-null object\nMy say                                 812 non-null object\nInformation                            816 non-null object\nKept informed                          813 non-null object\nWellness programs                      766 non-null object\nHealth & Safety                        793 non-null object\nGender                                 798 non-null object\nAge                                    811 non-null object\nAboriginal                             16 non-null object\nTorres Strait                          3 non-null object\nSouth Sea                              7 non-null object\nDisability                             23 non-null object\nNESB                                   32 non-null object\ndtypes: bool(18), int64(1), object(37)\nmemory usage: 258.6+ KB\n"
    }
   ],
   "source": [
    "dete_survey.info()"
   ]
  },
  {
   "cell_type": "code",
   "execution_count": 39,
   "metadata": {},
   "outputs": [
    {
     "output_type": "execute_result",
     "data": {
      "text/plain": "ID                                       0\nSeparationType                           0\nCease Date                               0\nDETE Start Date                          0\nRole Start Date                          0\nPosition                                 5\nClassification                         367\nRegion                                   0\nBusiness Unit                          696\nEmployment Status                        5\nCareer move to public sector             0\nCareer move to private sector            0\nInterpersonal conflicts                  0\nJob dissatisfaction                      0\nDissatisfaction with the department      0\nPhysical work environment                0\nLack of recognition                      0\nLack of job security                     0\nWork location                            0\nEmployment conditions                    0\nMaternity/family                         0\nRelocation                               0\nStudy/Travel                             0\nIll Health                               0\nTraumatic incident                       0\nWork life balance                        0\nWorkload                                 0\nNone of the above                        0\nProfessional Development                14\nOpportunities for promotion             87\nStaff morale                             6\nWorkplace issue                         34\nPhysical environment                     5\nWorklife balance                         7\nStress and pressure support             12\nPerformance of supervisor                9\nPeer support                            10\nInitiative                               9\nSkills                                  11\nCoach                                   55\nCareer Aspirations                      76\nFeedback                                30\nFurther PD                              54\nCommunication                            8\nMy say                                  10\nInformation                              6\nKept informed                            9\nWellness programs                       56\nHealth & Safety                         29\nGender                                  24\nAge                                     11\nAboriginal                             806\nTorres Strait                          819\nSouth Sea                              815\nDisability                             799\nNESB                                   790\ndtype: int64"
     },
     "metadata": {},
     "execution_count": 39
    }
   ],
   "source": [
    "dete_survey.isnull().sum()"
   ]
  },
  {
   "cell_type": "code",
   "execution_count": 40,
   "metadata": {},
   "outputs": [
    {
     "output_type": "execute_result",
     "data": {
      "text/plain": "      Record ID                              Institute  \\\n0  6.341330e+17  Southern Queensland Institute of TAFE   \n1  6.341337e+17            Mount Isa Institute of TAFE   \n2  6.341388e+17            Mount Isa Institute of TAFE   \n3  6.341399e+17            Mount Isa Institute of TAFE   \n4  6.341466e+17  Southern Queensland Institute of TAFE   \n\n                   WorkArea  CESSATION YEAR Reason for ceasing employment  \\\n0  Non-Delivery (corporate)          2010.0              Contract Expired   \n1  Non-Delivery (corporate)          2010.0                    Retirement   \n2       Delivery (teaching)          2010.0                    Retirement   \n3  Non-Delivery (corporate)          2010.0                   Resignation   \n4       Delivery (teaching)          2010.0                   Resignation   \n\n  Contributing Factors. Career Move - Public Sector   \\\n0                                                NaN   \n1                                                  -   \n2                                                  -   \n3                                                  -   \n4                                                  -   \n\n  Contributing Factors. Career Move - Private Sector   \\\n0                                                NaN    \n1                                                  -    \n2                                                  -    \n3                                                  -    \n4                       Career Move - Private Sector    \n\n  Contributing Factors. Career Move - Self-employment  \\\n0                                                NaN    \n1                                                  -    \n2                                                  -    \n3                                                  -    \n4                                                  -    \n\n  Contributing Factors. Ill Health Contributing Factors. Maternity/Family  \\\n0                              NaN                                    NaN   \n1                                -                                      -   \n2                                -                                      -   \n3                                -                                      -   \n4                                -                                      -   \n\n   ...  \\\n0  ...   \n1  ...   \n2  ...   \n3  ...   \n4  ...   \n\n  Workplace. Topic:Does your workplace promote a work culture free from all forms of unlawful discrimination?  \\\n0                                                Yes                                                            \n1                                                Yes                                                            \n2                                                Yes                                                            \n3                                                Yes                                                            \n4                                                Yes                                                            \n\n  Workplace. Topic:Does your workplace promote and practice the principles of employment equity?  \\\n0                                                Yes                                               \n1                                                Yes                                               \n2                                                Yes                                               \n3                                                Yes                                               \n4                                                Yes                                               \n\n  Workplace. Topic:Does your workplace value the diversity of its employees?  \\\n0                                                Yes                           \n1                                                Yes                           \n2                                                Yes                           \n3                                                Yes                           \n4                                                Yes                           \n\n  Workplace. Topic:Would you recommend the Institute as an employer to others?  \\\n0                                                Yes                             \n1                                                Yes                             \n2                                                Yes                             \n3                                                Yes                             \n4                                                Yes                             \n\n  Gender. What is your Gender? CurrentAge. Current Age  \\\n0                       Female                  26  30   \n1                          NaN                     NaN   \n2                          NaN                     NaN   \n3                          NaN                     NaN   \n4                         Male                  41  45   \n\n  Employment Type. Employment Type Classification. Classification  \\\n0              Temporary Full-time            Administration (AO)   \n1                              NaN                            NaN   \n2                              NaN                            NaN   \n3                              NaN                            NaN   \n4              Permanent Full-time        Teacher (including LVT)   \n\n  LengthofServiceOverall. Overall Length of Service at Institute (in years)  \\\n0                                                1-2                          \n1                                                NaN                          \n2                                                NaN                          \n3                                                NaN                          \n4                                                3-4                          \n\n  LengthofServiceCurrent. Length of Service at current workplace (in years)  \n0                                                1-2                         \n1                                                NaN                         \n2                                                NaN                         \n3                                                NaN                         \n4                                                3-4                         \n\n[5 rows x 72 columns]",
      "text/html": "<div>\n<style scoped>\n    .dataframe tbody tr th:only-of-type {\n        vertical-align: middle;\n    }\n\n    .dataframe tbody tr th {\n        vertical-align: top;\n    }\n\n    .dataframe thead th {\n        text-align: right;\n    }\n</style>\n<table border=\"1\" class=\"dataframe\">\n  <thead>\n    <tr style=\"text-align: right;\">\n      <th></th>\n      <th>Record ID</th>\n      <th>Institute</th>\n      <th>WorkArea</th>\n      <th>CESSATION YEAR</th>\n      <th>Reason for ceasing employment</th>\n      <th>Contributing Factors. Career Move - Public Sector</th>\n      <th>Contributing Factors. Career Move - Private Sector</th>\n      <th>Contributing Factors. Career Move - Self-employment</th>\n      <th>Contributing Factors. Ill Health</th>\n      <th>Contributing Factors. Maternity/Family</th>\n      <th>...</th>\n      <th>Workplace. Topic:Does your workplace promote a work culture free from all forms of unlawful discrimination?</th>\n      <th>Workplace. Topic:Does your workplace promote and practice the principles of employment equity?</th>\n      <th>Workplace. Topic:Does your workplace value the diversity of its employees?</th>\n      <th>Workplace. Topic:Would you recommend the Institute as an employer to others?</th>\n      <th>Gender. What is your Gender?</th>\n      <th>CurrentAge. Current Age</th>\n      <th>Employment Type. Employment Type</th>\n      <th>Classification. Classification</th>\n      <th>LengthofServiceOverall. Overall Length of Service at Institute (in years)</th>\n      <th>LengthofServiceCurrent. Length of Service at current workplace (in years)</th>\n    </tr>\n  </thead>\n  <tbody>\n    <tr>\n      <th>0</th>\n      <td>6.341330e+17</td>\n      <td>Southern Queensland Institute of TAFE</td>\n      <td>Non-Delivery (corporate)</td>\n      <td>2010.0</td>\n      <td>Contract Expired</td>\n      <td>NaN</td>\n      <td>NaN</td>\n      <td>NaN</td>\n      <td>NaN</td>\n      <td>NaN</td>\n      <td>...</td>\n      <td>Yes</td>\n      <td>Yes</td>\n      <td>Yes</td>\n      <td>Yes</td>\n      <td>Female</td>\n      <td>26  30</td>\n      <td>Temporary Full-time</td>\n      <td>Administration (AO)</td>\n      <td>1-2</td>\n      <td>1-2</td>\n    </tr>\n    <tr>\n      <th>1</th>\n      <td>6.341337e+17</td>\n      <td>Mount Isa Institute of TAFE</td>\n      <td>Non-Delivery (corporate)</td>\n      <td>2010.0</td>\n      <td>Retirement</td>\n      <td>-</td>\n      <td>-</td>\n      <td>-</td>\n      <td>-</td>\n      <td>-</td>\n      <td>...</td>\n      <td>Yes</td>\n      <td>Yes</td>\n      <td>Yes</td>\n      <td>Yes</td>\n      <td>NaN</td>\n      <td>NaN</td>\n      <td>NaN</td>\n      <td>NaN</td>\n      <td>NaN</td>\n      <td>NaN</td>\n    </tr>\n    <tr>\n      <th>2</th>\n      <td>6.341388e+17</td>\n      <td>Mount Isa Institute of TAFE</td>\n      <td>Delivery (teaching)</td>\n      <td>2010.0</td>\n      <td>Retirement</td>\n      <td>-</td>\n      <td>-</td>\n      <td>-</td>\n      <td>-</td>\n      <td>-</td>\n      <td>...</td>\n      <td>Yes</td>\n      <td>Yes</td>\n      <td>Yes</td>\n      <td>Yes</td>\n      <td>NaN</td>\n      <td>NaN</td>\n      <td>NaN</td>\n      <td>NaN</td>\n      <td>NaN</td>\n      <td>NaN</td>\n    </tr>\n    <tr>\n      <th>3</th>\n      <td>6.341399e+17</td>\n      <td>Mount Isa Institute of TAFE</td>\n      <td>Non-Delivery (corporate)</td>\n      <td>2010.0</td>\n      <td>Resignation</td>\n      <td>-</td>\n      <td>-</td>\n      <td>-</td>\n      <td>-</td>\n      <td>-</td>\n      <td>...</td>\n      <td>Yes</td>\n      <td>Yes</td>\n      <td>Yes</td>\n      <td>Yes</td>\n      <td>NaN</td>\n      <td>NaN</td>\n      <td>NaN</td>\n      <td>NaN</td>\n      <td>NaN</td>\n      <td>NaN</td>\n    </tr>\n    <tr>\n      <th>4</th>\n      <td>6.341466e+17</td>\n      <td>Southern Queensland Institute of TAFE</td>\n      <td>Delivery (teaching)</td>\n      <td>2010.0</td>\n      <td>Resignation</td>\n      <td>-</td>\n      <td>Career Move - Private Sector</td>\n      <td>-</td>\n      <td>-</td>\n      <td>-</td>\n      <td>...</td>\n      <td>Yes</td>\n      <td>Yes</td>\n      <td>Yes</td>\n      <td>Yes</td>\n      <td>Male</td>\n      <td>41  45</td>\n      <td>Permanent Full-time</td>\n      <td>Teacher (including LVT)</td>\n      <td>3-4</td>\n      <td>3-4</td>\n    </tr>\n  </tbody>\n</table>\n<p>5 rows × 72 columns</p>\n</div>"
     },
     "metadata": {},
     "execution_count": 40
    }
   ],
   "source": [
    "tafe_survey.head()"
   ]
  },
  {
   "cell_type": "markdown",
   "metadata": {},
   "source": [
    "both surveys have dete start date and role start date columns in which 'Not started' can be converted to NaN\n",
    "Both have too many unnecessary columns "
   ]
  },
  {
   "cell_type": "code",
   "execution_count": 41,
   "metadata": {},
   "outputs": [
    {
     "output_type": "stream",
     "name": "stdout",
     "text": "<class 'pandas.core.frame.DataFrame'>\nRangeIndex: 702 entries, 0 to 701\nData columns (total 72 columns):\nRecord ID                                                                                                                                                        702 non-null float64\nInstitute                                                                                                                                                        702 non-null object\nWorkArea                                                                                                                                                         702 non-null object\nCESSATION YEAR                                                                                                                                                   695 non-null float64\nReason for ceasing employment                                                                                                                                    701 non-null object\nContributing Factors. Career Move - Public Sector                                                                                                                437 non-null object\nContributing Factors. Career Move - Private Sector                                                                                                               437 non-null object\nContributing Factors. Career Move - Self-employment                                                                                                              437 non-null object\nContributing Factors. Ill Health                                                                                                                                 437 non-null object\nContributing Factors. Maternity/Family                                                                                                                           437 non-null object\nContributing Factors. Dissatisfaction                                                                                                                            437 non-null object\nContributing Factors. Job Dissatisfaction                                                                                                                        437 non-null object\nContributing Factors. Interpersonal Conflict                                                                                                                     437 non-null object\nContributing Factors. Study                                                                                                                                      437 non-null object\nContributing Factors. Travel                                                                                                                                     437 non-null object\nContributing Factors. Other                                                                                                                                      437 non-null object\nContributing Factors. NONE                                                                                                                                       437 non-null object\nMain Factor. Which of these was the main factor for leaving?                                                                                                     113 non-null object\nInstituteViews. Topic:1. I feel the senior leadership had a clear vision and direction                                                                           608 non-null object\nInstituteViews. Topic:2. I was given access to skills training to help me do my job better                                                                       613 non-null object\nInstituteViews. Topic:3. I was given adequate opportunities for personal development                                                                             610 non-null object\nInstituteViews. Topic:4. I was given adequate opportunities for promotion within %Institute]Q25LBL%                                                              608 non-null object\nInstituteViews. Topic:5. I felt the salary for the job was right for the responsibilities I had                                                                  615 non-null object\nInstituteViews. Topic:6. The organisation recognised when staff did good work                                                                                    607 non-null object\nInstituteViews. Topic:7. Management was generally supportive of me                                                                                               614 non-null object\nInstituteViews. Topic:8. Management was generally supportive of my team                                                                                          608 non-null object\nInstituteViews. Topic:9. I was kept informed of the changes in the organisation which would affect me                                                            610 non-null object\nInstituteViews. Topic:10. Staff morale was positive within the Institute                                                                                         602 non-null object\nInstituteViews. Topic:11. If I had a workplace issue it was dealt with quickly                                                                                   601 non-null object\nInstituteViews. Topic:12. If I had a workplace issue it was dealt with efficiently                                                                               597 non-null object\nInstituteViews. Topic:13. If I had a workplace issue it was dealt with discreetly                                                                                601 non-null object\nWorkUnitViews. Topic:14. I was satisfied with the quality of the management and supervision within my work unit                                                  609 non-null object\nWorkUnitViews. Topic:15. I worked well with my colleagues                                                                                                        605 non-null object\nWorkUnitViews. Topic:16. My job was challenging and interesting                                                                                                  607 non-null object\nWorkUnitViews. Topic:17. I was encouraged to use my initiative in the course of my work                                                                          610 non-null object\nWorkUnitViews. Topic:18. I had sufficient contact with other people in my job                                                                                    613 non-null object\nWorkUnitViews. Topic:19. I was given adequate support and co-operation by my peers to enable me to do my job                                                     609 non-null object\nWorkUnitViews. Topic:20. I was able to use the full range of my skills in my job                                                                                 609 non-null object\nWorkUnitViews. Topic:21. I was able to use the full range of my abilities in my job. ; Category:Level of Agreement; Question:YOUR VIEWS ABOUT YOUR WORK UNIT]    608 non-null object\nWorkUnitViews. Topic:22. I was able to use the full range of my knowledge in my job                                                                              608 non-null object\nWorkUnitViews. Topic:23. My job provided sufficient variety                                                                                                      611 non-null object\nWorkUnitViews. Topic:24. I was able to cope with the level of stress and pressure in my job                                                                      610 non-null object\nWorkUnitViews. Topic:25. My job allowed me to balance the demands of work and family to my satisfaction                                                          611 non-null object\nWorkUnitViews. Topic:26. My supervisor gave me adequate personal recognition and feedback on my performance                                                      606 non-null object\nWorkUnitViews. Topic:27. My working environment was satisfactory e.g. sufficient space, good lighting, suitable seating and working area                         610 non-null object\nWorkUnitViews. Topic:28. I was given the opportunity to mentor and coach others in order for me to pass on my skills and knowledge prior to my cessation date    609 non-null object\nWorkUnitViews. Topic:29. There was adequate communication between staff in my unit                                                                               603 non-null object\nWorkUnitViews. Topic:30. Staff morale was positive within my work unit                                                                                           606 non-null object\nInduction. Did you undertake Workplace Induction?                                                                                                                619 non-null object\nInductionInfo. Topic:Did you undertake a Corporate Induction?                                                                                                    432 non-null object\nInductionInfo. Topic:Did you undertake a Institute Induction?                                                                                                    483 non-null object\nInductionInfo. Topic: Did you undertake Team Induction?                                                                                                          440 non-null object\nInductionInfo. Face to Face Topic:Did you undertake a Corporate Induction; Category:How it was conducted?                                                        555 non-null object\nInductionInfo. On-line Topic:Did you undertake a Corporate Induction; Category:How it was conducted?                                                             555 non-null object\nInductionInfo. Induction Manual Topic:Did you undertake a Corporate Induction?                                                                                   555 non-null object\nInductionInfo. Face to Face Topic:Did you undertake a Institute Induction?                                                                                       530 non-null object\nInductionInfo. On-line Topic:Did you undertake a Institute Induction?                                                                                            555 non-null object\nInductionInfo. Induction Manual Topic:Did you undertake a Institute Induction?                                                                                   553 non-null object\nInductionInfo. Face to Face Topic: Did you undertake Team Induction; Category?                                                                                   555 non-null object\nInductionInfo. On-line Topic: Did you undertake Team Induction?process you undertook and how it was conducted.]                                                  555 non-null object\nInductionInfo. Induction Manual Topic: Did you undertake Team Induction?                                                                                         555 non-null object\nWorkplace. Topic:Did you and your Manager develop a Performance and Professional Development Plan (PPDP)?                                                        608 non-null object\nWorkplace. Topic:Does your workplace promote a work culture free from all forms of unlawful discrimination?                                                      594 non-null object\nWorkplace. Topic:Does your workplace promote and practice the principles of employment equity?                                                                   587 non-null object\nWorkplace. Topic:Does your workplace value the diversity of its employees?                                                                                       586 non-null object\nWorkplace. Topic:Would you recommend the Institute as an employer to others?                                                                                     581 non-null object\nGender. What is your Gender?                                                                                                                                     596 non-null object\nCurrentAge. Current Age                                                                                                                                          596 non-null object\nEmployment Type. Employment Type                                                                                                                                 596 non-null object\nClassification. Classification                                                                                                                                   596 non-null object\nLengthofServiceOverall. Overall Length of Service at Institute (in years)                                                                                        596 non-null object\nLengthofServiceCurrent. Length of Service at current workplace (in years)                                                                                        596 non-null object\ndtypes: float64(2), object(70)\nmemory usage: 395.0+ KB\n"
    }
   ],
   "source": [
    "tafe_survey.info()"
   ]
  },
  {
   "cell_type": "code",
   "execution_count": 42,
   "metadata": {},
   "outputs": [
    {
     "output_type": "execute_result",
     "data": {
      "text/plain": "Index(['ID', 'SeparationType', 'Cease Date', 'DETE Start Date',\n       'Role Start Date', 'Position', 'Classification', 'Region',\n       'Business Unit', 'Employment Status', 'Career move to public sector',\n       'Career move to private sector', 'Interpersonal conflicts',\n       'Job dissatisfaction', 'Dissatisfaction with the department',\n       'Physical work environment', 'Lack of recognition',\n       'Lack of job security', 'Work location', 'Employment conditions',\n       'Maternity/family', 'Relocation', 'Study/Travel', 'Ill Health',\n       'Traumatic incident', 'Work life balance', 'Workload',\n       'None of the above', 'Professional Development',\n       'Opportunities for promotion', 'Staff morale', 'Workplace issue',\n       'Physical environment', 'Worklife balance',\n       'Stress and pressure support', 'Performance of supervisor',\n       'Peer support', 'Initiative', 'Skills', 'Coach', 'Career Aspirations',\n       'Feedback', 'Further PD', 'Communication', 'My say', 'Information',\n       'Kept informed', 'Wellness programs', 'Health & Safety', 'Gender',\n       'Age', 'Aboriginal', 'Torres Strait', 'South Sea', 'Disability',\n       'NESB'],\n      dtype='object')"
     },
     "metadata": {},
     "execution_count": 42
    }
   ],
   "source": [
    "dete_survey.columns"
   ]
  },
  {
   "cell_type": "code",
   "execution_count": 43,
   "metadata": {},
   "outputs": [
    {
     "output_type": "execute_result",
     "data": {
      "text/plain": "Index(['Record ID', 'Institute', 'WorkArea', 'CESSATION YEAR',\n       'Reason for ceasing employment',\n       'Contributing Factors. Career Move - Public Sector ',\n       'Contributing Factors. Career Move - Private Sector ',\n       'Contributing Factors. Career Move - Self-employment',\n       'Contributing Factors. Ill Health',\n       'Contributing Factors. Maternity/Family',\n       'Contributing Factors. Dissatisfaction',\n       'Contributing Factors. Job Dissatisfaction',\n       'Contributing Factors. Interpersonal Conflict',\n       'Contributing Factors. Study', 'Contributing Factors. Travel',\n       'Contributing Factors. Other', 'Contributing Factors. NONE',\n       'Main Factor. Which of these was the main factor for leaving?',\n       'InstituteViews. Topic:1. I feel the senior leadership had a clear vision and direction',\n       'InstituteViews. Topic:2. I was given access to skills training to help me do my job better',\n       'InstituteViews. Topic:3. I was given adequate opportunities for personal development',\n       'InstituteViews. Topic:4. I was given adequate opportunities for promotion within %Institute]Q25LBL%',\n       'InstituteViews. Topic:5. I felt the salary for the job was right for the responsibilities I had',\n       'InstituteViews. Topic:6. The organisation recognised when staff did good work',\n       'InstituteViews. Topic:7. Management was generally supportive of me',\n       'InstituteViews. Topic:8. Management was generally supportive of my team',\n       'InstituteViews. Topic:9. I was kept informed of the changes in the organisation which would affect me',\n       'InstituteViews. Topic:10. Staff morale was positive within the Institute',\n       'InstituteViews. Topic:11. If I had a workplace issue it was dealt with quickly',\n       'InstituteViews. Topic:12. If I had a workplace issue it was dealt with efficiently',\n       'InstituteViews. Topic:13. If I had a workplace issue it was dealt with discreetly',\n       'WorkUnitViews. Topic:14. I was satisfied with the quality of the management and supervision within my work unit',\n       'WorkUnitViews. Topic:15. I worked well with my colleagues',\n       'WorkUnitViews. Topic:16. My job was challenging and interesting',\n       'WorkUnitViews. Topic:17. I was encouraged to use my initiative in the course of my work',\n       'WorkUnitViews. Topic:18. I had sufficient contact with other people in my job',\n       'WorkUnitViews. Topic:19. I was given adequate support and co-operation by my peers to enable me to do my job',\n       'WorkUnitViews. Topic:20. I was able to use the full range of my skills in my job',\n       'WorkUnitViews. Topic:21. I was able to use the full range of my abilities in my job. ; Category:Level of Agreement; Question:YOUR VIEWS ABOUT YOUR WORK UNIT]',\n       'WorkUnitViews. Topic:22. I was able to use the full range of my knowledge in my job',\n       'WorkUnitViews. Topic:23. My job provided sufficient variety',\n       'WorkUnitViews. Topic:24. I was able to cope with the level of stress and pressure in my job',\n       'WorkUnitViews. Topic:25. My job allowed me to balance the demands of work and family to my satisfaction',\n       'WorkUnitViews. Topic:26. My supervisor gave me adequate personal recognition and feedback on my performance',\n       'WorkUnitViews. Topic:27. My working environment was satisfactory e.g. sufficient space, good lighting, suitable seating and working area',\n       'WorkUnitViews. Topic:28. I was given the opportunity to mentor and coach others in order for me to pass on my skills and knowledge prior to my cessation date',\n       'WorkUnitViews. Topic:29. There was adequate communication between staff in my unit',\n       'WorkUnitViews. Topic:30. Staff morale was positive within my work unit',\n       'Induction. Did you undertake Workplace Induction?',\n       'InductionInfo. Topic:Did you undertake a Corporate Induction?',\n       'InductionInfo. Topic:Did you undertake a Institute Induction?',\n       'InductionInfo. Topic: Did you undertake Team Induction?',\n       'InductionInfo. Face to Face Topic:Did you undertake a Corporate Induction; Category:How it was conducted?',\n       'InductionInfo. On-line Topic:Did you undertake a Corporate Induction; Category:How it was conducted?',\n       'InductionInfo. Induction Manual Topic:Did you undertake a Corporate Induction?',\n       'InductionInfo. Face to Face Topic:Did you undertake a Institute Induction?',\n       'InductionInfo. On-line Topic:Did you undertake a Institute Induction?',\n       'InductionInfo. Induction Manual Topic:Did you undertake a Institute Induction?',\n       'InductionInfo. Face to Face Topic: Did you undertake Team Induction; Category?',\n       'InductionInfo. On-line Topic: Did you undertake Team Induction?process you undertook and how it was conducted.]',\n       'InductionInfo. Induction Manual Topic: Did you undertake Team Induction?',\n       'Workplace. Topic:Did you and your Manager develop a Performance and Professional Development Plan (PPDP)?',\n       'Workplace. Topic:Does your workplace promote a work culture free from all forms of unlawful discrimination?',\n       'Workplace. Topic:Does your workplace promote and practice the principles of employment equity?',\n       'Workplace. Topic:Does your workplace value the diversity of its employees?',\n       'Workplace. Topic:Would you recommend the Institute as an employer to others?',\n       'Gender. What is your Gender?', 'CurrentAge. Current Age',\n       'Employment Type. Employment Type', 'Classification. Classification',\n       'LengthofServiceOverall. Overall Length of Service at Institute (in years)',\n       'LengthofServiceCurrent. Length of Service at current workplace (in years)'],\n      dtype='object')"
     },
     "metadata": {},
     "execution_count": 43
    }
   ],
   "source": [
    "tafe_survey.columns"
   ]
  },
  {
   "cell_type": "markdown",
   "metadata": {},
   "source": [
    "converting Not Started values to NaN"
   ]
  },
  {
   "cell_type": "code",
   "execution_count": 47,
   "metadata": {},
   "outputs": [],
   "source": [
    "dete_survey = pd.read_csv('dete_survey.csv',na_values='Not Stated')\n",
    "tafe_survey = pd.read_csv('tafe_survey.csv',na_values='Not Started')"
   ]
  },
  {
   "cell_type": "code",
   "execution_count": 48,
   "metadata": {},
   "outputs": [
    {
     "output_type": "execute_result",
     "data": {
      "text/plain": "   ID                    SeparationType Cease Date  DETE Start Date  \\\n0   1             Ill Health Retirement    08/2012           1984.0   \n1   2  Voluntary Early Retirement (VER)    08/2012              NaN   \n2   3  Voluntary Early Retirement (VER)    05/2012           2011.0   \n3   4         Resignation-Other reasons    05/2012           2005.0   \n4   5                    Age Retirement    05/2012           1970.0   \n\n   Role Start Date                                      Position  \\\n0           2004.0                                Public Servant   \n1              NaN                                Public Servant   \n2           2011.0                               Schools Officer   \n3           2006.0                                       Teacher   \n4           1989.0  Head of Curriculum/Head of Special Education   \n\n  Classification              Region                      Business Unit  \\\n0        A01-A04      Central Office  Corporate Strategy and Peformance   \n1        AO5-AO7      Central Office  Corporate Strategy and Peformance   \n2            NaN      Central Office               Education Queensland   \n3        Primary  Central Queensland                                NaN   \n4            NaN          South East                                NaN   \n\n     Employment Status  ...  Kept informed  Wellness programs  \\\n0  Permanent Full-time  ...              N                  N   \n1  Permanent Full-time  ...              N                  N   \n2  Permanent Full-time  ...              N                  N   \n3  Permanent Full-time  ...              A                  N   \n4  Permanent Full-time  ...              N                  A   \n\n   Health & Safety  Gender          Age  Aboriginal  Torres Strait  South Sea  \\\n0                N    Male        56-60         NaN            NaN        NaN   \n1                N    Male        56-60         NaN            NaN        NaN   \n2                N    Male  61 or older         NaN            NaN        NaN   \n3                A  Female        36-40         NaN            NaN        NaN   \n4                M  Female  61 or older         NaN            NaN        NaN   \n\n   Disability  NESB  \n0         NaN   Yes  \n1         NaN   NaN  \n2         NaN   NaN  \n3         NaN   NaN  \n4         NaN   NaN  \n\n[5 rows x 56 columns]",
      "text/html": "<div>\n<style scoped>\n    .dataframe tbody tr th:only-of-type {\n        vertical-align: middle;\n    }\n\n    .dataframe tbody tr th {\n        vertical-align: top;\n    }\n\n    .dataframe thead th {\n        text-align: right;\n    }\n</style>\n<table border=\"1\" class=\"dataframe\">\n  <thead>\n    <tr style=\"text-align: right;\">\n      <th></th>\n      <th>ID</th>\n      <th>SeparationType</th>\n      <th>Cease Date</th>\n      <th>DETE Start Date</th>\n      <th>Role Start Date</th>\n      <th>Position</th>\n      <th>Classification</th>\n      <th>Region</th>\n      <th>Business Unit</th>\n      <th>Employment Status</th>\n      <th>...</th>\n      <th>Kept informed</th>\n      <th>Wellness programs</th>\n      <th>Health &amp; Safety</th>\n      <th>Gender</th>\n      <th>Age</th>\n      <th>Aboriginal</th>\n      <th>Torres Strait</th>\n      <th>South Sea</th>\n      <th>Disability</th>\n      <th>NESB</th>\n    </tr>\n  </thead>\n  <tbody>\n    <tr>\n      <th>0</th>\n      <td>1</td>\n      <td>Ill Health Retirement</td>\n      <td>08/2012</td>\n      <td>1984.0</td>\n      <td>2004.0</td>\n      <td>Public Servant</td>\n      <td>A01-A04</td>\n      <td>Central Office</td>\n      <td>Corporate Strategy and Peformance</td>\n      <td>Permanent Full-time</td>\n      <td>...</td>\n      <td>N</td>\n      <td>N</td>\n      <td>N</td>\n      <td>Male</td>\n      <td>56-60</td>\n      <td>NaN</td>\n      <td>NaN</td>\n      <td>NaN</td>\n      <td>NaN</td>\n      <td>Yes</td>\n    </tr>\n    <tr>\n      <th>1</th>\n      <td>2</td>\n      <td>Voluntary Early Retirement (VER)</td>\n      <td>08/2012</td>\n      <td>NaN</td>\n      <td>NaN</td>\n      <td>Public Servant</td>\n      <td>AO5-AO7</td>\n      <td>Central Office</td>\n      <td>Corporate Strategy and Peformance</td>\n      <td>Permanent Full-time</td>\n      <td>...</td>\n      <td>N</td>\n      <td>N</td>\n      <td>N</td>\n      <td>Male</td>\n      <td>56-60</td>\n      <td>NaN</td>\n      <td>NaN</td>\n      <td>NaN</td>\n      <td>NaN</td>\n      <td>NaN</td>\n    </tr>\n    <tr>\n      <th>2</th>\n      <td>3</td>\n      <td>Voluntary Early Retirement (VER)</td>\n      <td>05/2012</td>\n      <td>2011.0</td>\n      <td>2011.0</td>\n      <td>Schools Officer</td>\n      <td>NaN</td>\n      <td>Central Office</td>\n      <td>Education Queensland</td>\n      <td>Permanent Full-time</td>\n      <td>...</td>\n      <td>N</td>\n      <td>N</td>\n      <td>N</td>\n      <td>Male</td>\n      <td>61 or older</td>\n      <td>NaN</td>\n      <td>NaN</td>\n      <td>NaN</td>\n      <td>NaN</td>\n      <td>NaN</td>\n    </tr>\n    <tr>\n      <th>3</th>\n      <td>4</td>\n      <td>Resignation-Other reasons</td>\n      <td>05/2012</td>\n      <td>2005.0</td>\n      <td>2006.0</td>\n      <td>Teacher</td>\n      <td>Primary</td>\n      <td>Central Queensland</td>\n      <td>NaN</td>\n      <td>Permanent Full-time</td>\n      <td>...</td>\n      <td>A</td>\n      <td>N</td>\n      <td>A</td>\n      <td>Female</td>\n      <td>36-40</td>\n      <td>NaN</td>\n      <td>NaN</td>\n      <td>NaN</td>\n      <td>NaN</td>\n      <td>NaN</td>\n    </tr>\n    <tr>\n      <th>4</th>\n      <td>5</td>\n      <td>Age Retirement</td>\n      <td>05/2012</td>\n      <td>1970.0</td>\n      <td>1989.0</td>\n      <td>Head of Curriculum/Head of Special Education</td>\n      <td>NaN</td>\n      <td>South East</td>\n      <td>NaN</td>\n      <td>Permanent Full-time</td>\n      <td>...</td>\n      <td>N</td>\n      <td>A</td>\n      <td>M</td>\n      <td>Female</td>\n      <td>61 or older</td>\n      <td>NaN</td>\n      <td>NaN</td>\n      <td>NaN</td>\n      <td>NaN</td>\n      <td>NaN</td>\n    </tr>\n  </tbody>\n</table>\n<p>5 rows × 56 columns</p>\n</div>"
     },
     "metadata": {},
     "execution_count": 48
    }
   ],
   "source": [
    "dete_survey.head()"
   ]
  },
  {
   "cell_type": "code",
   "execution_count": 49,
   "metadata": {},
   "outputs": [],
   "source": [
    "dete_survey_updated = dete_survey.drop(columns=dete_survey.columns[28:49],axis=1)"
   ]
  },
  {
   "cell_type": "code",
   "execution_count": 50,
   "metadata": {},
   "outputs": [
    {
     "output_type": "stream",
     "name": "stdout",
     "text": "56 35\n"
    }
   ],
   "source": [
    "print(len(dete_survey.columns),len(dete_survey_updated.columns))"
   ]
  },
  {
   "cell_type": "code",
   "execution_count": 51,
   "metadata": {},
   "outputs": [],
   "source": [
    "tafe_survey_updated = tafe_survey.drop(columns=tafe_survey.columns[17:66],axis=1)"
   ]
  },
  {
   "cell_type": "markdown",
   "metadata": {},
   "source": [
    "dropped columns that were unnecessary for analysis"
   ]
  },
  {
   "cell_type": "code",
   "execution_count": null,
   "metadata": {},
   "outputs": [],
   "source": []
  }
 ],
 "metadata": {
  "language_info": {
   "codemirror_mode": {
    "name": "ipython",
    "version": 3
   },
   "file_extension": ".py",
   "mimetype": "text/x-python",
   "name": "python",
   "nbconvert_exporter": "python",
   "pygments_lexer": "ipython3",
   "version": "3.7.3-final"
  },
  "orig_nbformat": 2,
  "kernelspec": {
   "name": "python3",
   "display_name": "Python 3"
  }
 },
 "nbformat": 4,
 "nbformat_minor": 2
}
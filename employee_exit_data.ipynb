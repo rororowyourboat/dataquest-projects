{
 "cells": [
  {
   "cell_type": "markdown",
   "metadata": {},
   "source": [
    "# Cleaning and analyzing employee exit surveys"
   ]
  },
  {
   "cell_type": "markdown",
   "metadata": {},
   "source": [
    "Task is to answer these questions from the dete and tafe employee exit surveys:\n",
    "\n",
    "1) Are employees who only worked for the institutes for a short period of time resigning due to some kind of dissatisfaction? What about employees who have been there longer?\n",
    "\n",
    "2) Are younger employees resigning due to some kind of dissatisfaction? What about older employees?"
   ]
  },
  {
   "cell_type": "code",
   "execution_count": 1,
   "metadata": {},
   "outputs": [],
   "source": [
    "import pandas as pd \n",
    "import numpy as np"
   ]
  },
  {
   "cell_type": "code",
   "execution_count": 2,
   "metadata": {},
   "outputs": [],
   "source": [
    "dete_survey=pd.read_csv('dete_survey.csv')\n",
    "tafe_survey=pd.read_csv('tafe_survey.csv')"
   ]
  },
  {
   "cell_type": "code",
   "execution_count": 3,
   "metadata": {},
   "outputs": [
    {
     "output_type": "execute_result",
     "data": {
      "text/plain": "   ID                    SeparationType Cease Date DETE Start Date  \\\n0   1             Ill Health Retirement    08/2012            1984   \n1   2  Voluntary Early Retirement (VER)    08/2012      Not Stated   \n2   3  Voluntary Early Retirement (VER)    05/2012            2011   \n3   4         Resignation-Other reasons    05/2012            2005   \n4   5                    Age Retirement    05/2012            1970   \n\n  Role Start Date                                      Position  \\\n0            2004                                Public Servant   \n1      Not Stated                                Public Servant   \n2            2011                               Schools Officer   \n3            2006                                       Teacher   \n4            1989  Head of Curriculum/Head of Special Education   \n\n  Classification              Region                      Business Unit  \\\n0        A01-A04      Central Office  Corporate Strategy and Peformance   \n1        AO5-AO7      Central Office  Corporate Strategy and Peformance   \n2            NaN      Central Office               Education Queensland   \n3        Primary  Central Queensland                                NaN   \n4            NaN          South East                                NaN   \n\n     Employment Status  ...  Kept informed  Wellness programs  \\\n0  Permanent Full-time  ...              N                  N   \n1  Permanent Full-time  ...              N                  N   \n2  Permanent Full-time  ...              N                  N   \n3  Permanent Full-time  ...              A                  N   \n4  Permanent Full-time  ...              N                  A   \n\n   Health & Safety  Gender          Age  Aboriginal  Torres Strait  South Sea  \\\n0                N    Male        56-60         NaN            NaN        NaN   \n1                N    Male        56-60         NaN            NaN        NaN   \n2                N    Male  61 or older         NaN            NaN        NaN   \n3                A  Female        36-40         NaN            NaN        NaN   \n4                M  Female  61 or older         NaN            NaN        NaN   \n\n   Disability  NESB  \n0         NaN   Yes  \n1         NaN   NaN  \n2         NaN   NaN  \n3         NaN   NaN  \n4         NaN   NaN  \n\n[5 rows x 56 columns]",
      "text/html": "<div>\n<style scoped>\n    .dataframe tbody tr th:only-of-type {\n        vertical-align: middle;\n    }\n\n    .dataframe tbody tr th {\n        vertical-align: top;\n    }\n\n    .dataframe thead th {\n        text-align: right;\n    }\n</style>\n<table border=\"1\" class=\"dataframe\">\n  <thead>\n    <tr style=\"text-align: right;\">\n      <th></th>\n      <th>ID</th>\n      <th>SeparationType</th>\n      <th>Cease Date</th>\n      <th>DETE Start Date</th>\n      <th>Role Start Date</th>\n      <th>Position</th>\n      <th>Classification</th>\n      <th>Region</th>\n      <th>Business Unit</th>\n      <th>Employment Status</th>\n      <th>...</th>\n      <th>Kept informed</th>\n      <th>Wellness programs</th>\n      <th>Health &amp; Safety</th>\n      <th>Gender</th>\n      <th>Age</th>\n      <th>Aboriginal</th>\n      <th>Torres Strait</th>\n      <th>South Sea</th>\n      <th>Disability</th>\n      <th>NESB</th>\n    </tr>\n  </thead>\n  <tbody>\n    <tr>\n      <th>0</th>\n      <td>1</td>\n      <td>Ill Health Retirement</td>\n      <td>08/2012</td>\n      <td>1984</td>\n      <td>2004</td>\n      <td>Public Servant</td>\n      <td>A01-A04</td>\n      <td>Central Office</td>\n      <td>Corporate Strategy and Peformance</td>\n      <td>Permanent Full-time</td>\n      <td>...</td>\n      <td>N</td>\n      <td>N</td>\n      <td>N</td>\n      <td>Male</td>\n      <td>56-60</td>\n      <td>NaN</td>\n      <td>NaN</td>\n      <td>NaN</td>\n      <td>NaN</td>\n      <td>Yes</td>\n    </tr>\n    <tr>\n      <th>1</th>\n      <td>2</td>\n      <td>Voluntary Early Retirement (VER)</td>\n      <td>08/2012</td>\n      <td>Not Stated</td>\n      <td>Not Stated</td>\n      <td>Public Servant</td>\n      <td>AO5-AO7</td>\n      <td>Central Office</td>\n      <td>Corporate Strategy and Peformance</td>\n      <td>Permanent Full-time</td>\n      <td>...</td>\n      <td>N</td>\n      <td>N</td>\n      <td>N</td>\n      <td>Male</td>\n      <td>56-60</td>\n      <td>NaN</td>\n      <td>NaN</td>\n      <td>NaN</td>\n      <td>NaN</td>\n      <td>NaN</td>\n    </tr>\n    <tr>\n      <th>2</th>\n      <td>3</td>\n      <td>Voluntary Early Retirement (VER)</td>\n      <td>05/2012</td>\n      <td>2011</td>\n      <td>2011</td>\n      <td>Schools Officer</td>\n      <td>NaN</td>\n      <td>Central Office</td>\n      <td>Education Queensland</td>\n      <td>Permanent Full-time</td>\n      <td>...</td>\n      <td>N</td>\n      <td>N</td>\n      <td>N</td>\n      <td>Male</td>\n      <td>61 or older</td>\n      <td>NaN</td>\n      <td>NaN</td>\n      <td>NaN</td>\n      <td>NaN</td>\n      <td>NaN</td>\n    </tr>\n    <tr>\n      <th>3</th>\n      <td>4</td>\n      <td>Resignation-Other reasons</td>\n      <td>05/2012</td>\n      <td>2005</td>\n      <td>2006</td>\n      <td>Teacher</td>\n      <td>Primary</td>\n      <td>Central Queensland</td>\n      <td>NaN</td>\n      <td>Permanent Full-time</td>\n      <td>...</td>\n      <td>A</td>\n      <td>N</td>\n      <td>A</td>\n      <td>Female</td>\n      <td>36-40</td>\n      <td>NaN</td>\n      <td>NaN</td>\n      <td>NaN</td>\n      <td>NaN</td>\n      <td>NaN</td>\n    </tr>\n    <tr>\n      <th>4</th>\n      <td>5</td>\n      <td>Age Retirement</td>\n      <td>05/2012</td>\n      <td>1970</td>\n      <td>1989</td>\n      <td>Head of Curriculum/Head of Special Education</td>\n      <td>NaN</td>\n      <td>South East</td>\n      <td>NaN</td>\n      <td>Permanent Full-time</td>\n      <td>...</td>\n      <td>N</td>\n      <td>A</td>\n      <td>M</td>\n      <td>Female</td>\n      <td>61 or older</td>\n      <td>NaN</td>\n      <td>NaN</td>\n      <td>NaN</td>\n      <td>NaN</td>\n      <td>NaN</td>\n    </tr>\n  </tbody>\n</table>\n<p>5 rows × 56 columns</p>\n</div>"
     },
     "metadata": {},
     "execution_count": 3
    }
   ],
   "source": [
    "dete_survey.head()"
   ]
  },
  {
   "cell_type": "code",
   "execution_count": 4,
   "metadata": {},
   "outputs": [
    {
     "output_type": "stream",
     "name": "stdout",
     "text": "<class 'pandas.core.frame.DataFrame'>\nRangeIndex: 822 entries, 0 to 821\nData columns (total 56 columns):\nID                                     822 non-null int64\nSeparationType                         822 non-null object\nCease Date                             822 non-null object\nDETE Start Date                        822 non-null object\nRole Start Date                        822 non-null object\nPosition                               817 non-null object\nClassification                         455 non-null object\nRegion                                 822 non-null object\nBusiness Unit                          126 non-null object\nEmployment Status                      817 non-null object\nCareer move to public sector           822 non-null bool\nCareer move to private sector          822 non-null bool\nInterpersonal conflicts                822 non-null bool\nJob dissatisfaction                    822 non-null bool\nDissatisfaction with the department    822 non-null bool\nPhysical work environment              822 non-null bool\nLack of recognition                    822 non-null bool\nLack of job security                   822 non-null bool\nWork location                          822 non-null bool\nEmployment conditions                  822 non-null bool\nMaternity/family                       822 non-null bool\nRelocation                             822 non-null bool\nStudy/Travel                           822 non-null bool\nIll Health                             822 non-null bool\nTraumatic incident                     822 non-null bool\nWork life balance                      822 non-null bool\nWorkload                               822 non-null bool\nNone of the above                      822 non-null bool\nProfessional Development               808 non-null object\nOpportunities for promotion            735 non-null object\nStaff morale                           816 non-null object\nWorkplace issue                        788 non-null object\nPhysical environment                   817 non-null object\nWorklife balance                       815 non-null object\nStress and pressure support            810 non-null object\nPerformance of supervisor              813 non-null object\nPeer support                           812 non-null object\nInitiative                             813 non-null object\nSkills                                 811 non-null object\nCoach                                  767 non-null object\nCareer Aspirations                     746 non-null object\nFeedback                               792 non-null object\nFurther PD                             768 non-null object\nCommunication                          814 non-null object\nMy say                                 812 non-null object\nInformation                            816 non-null object\nKept informed                          813 non-null object\nWellness programs                      766 non-null object\nHealth & Safety                        793 non-null object\nGender                                 798 non-null object\nAge                                    811 non-null object\nAboriginal                             16 non-null object\nTorres Strait                          3 non-null object\nSouth Sea                              7 non-null object\nDisability                             23 non-null object\nNESB                                   32 non-null object\ndtypes: bool(18), int64(1), object(37)\nmemory usage: 258.6+ KB\n"
    }
   ],
   "source": [
    "dete_survey.info()"
   ]
  },
  {
   "cell_type": "code",
   "execution_count": 5,
   "metadata": {},
   "outputs": [
    {
     "output_type": "execute_result",
     "data": {
      "text/plain": "ID                                       0\nSeparationType                           0\nCease Date                               0\nDETE Start Date                          0\nRole Start Date                          0\nPosition                                 5\nClassification                         367\nRegion                                   0\nBusiness Unit                          696\nEmployment Status                        5\nCareer move to public sector             0\nCareer move to private sector            0\nInterpersonal conflicts                  0\nJob dissatisfaction                      0\nDissatisfaction with the department      0\nPhysical work environment                0\nLack of recognition                      0\nLack of job security                     0\nWork location                            0\nEmployment conditions                    0\nMaternity/family                         0\nRelocation                               0\nStudy/Travel                             0\nIll Health                               0\nTraumatic incident                       0\nWork life balance                        0\nWorkload                                 0\nNone of the above                        0\nProfessional Development                14\nOpportunities for promotion             87\nStaff morale                             6\nWorkplace issue                         34\nPhysical environment                     5\nWorklife balance                         7\nStress and pressure support             12\nPerformance of supervisor                9\nPeer support                            10\nInitiative                               9\nSkills                                  11\nCoach                                   55\nCareer Aspirations                      76\nFeedback                                30\nFurther PD                              54\nCommunication                            8\nMy say                                  10\nInformation                              6\nKept informed                            9\nWellness programs                       56\nHealth & Safety                         29\nGender                                  24\nAge                                     11\nAboriginal                             806\nTorres Strait                          819\nSouth Sea                              815\nDisability                             799\nNESB                                   790\ndtype: int64"
     },
     "metadata": {},
     "execution_count": 5
    }
   ],
   "source": [
    "dete_survey.isnull().sum()"
   ]
  },
  {
   "cell_type": "code",
   "execution_count": 6,
   "metadata": {},
   "outputs": [
    {
     "output_type": "execute_result",
     "data": {
      "text/plain": "      Record ID                              Institute  \\\n0  6.341330e+17  Southern Queensland Institute of TAFE   \n1  6.341337e+17            Mount Isa Institute of TAFE   \n2  6.341388e+17            Mount Isa Institute of TAFE   \n3  6.341399e+17            Mount Isa Institute of TAFE   \n4  6.341466e+17  Southern Queensland Institute of TAFE   \n\n                   WorkArea  CESSATION YEAR Reason for ceasing employment  \\\n0  Non-Delivery (corporate)          2010.0              Contract Expired   \n1  Non-Delivery (corporate)          2010.0                    Retirement   \n2       Delivery (teaching)          2010.0                    Retirement   \n3  Non-Delivery (corporate)          2010.0                   Resignation   \n4       Delivery (teaching)          2010.0                   Resignation   \n\n  Contributing Factors. Career Move - Public Sector   \\\n0                                                NaN   \n1                                                  -   \n2                                                  -   \n3                                                  -   \n4                                                  -   \n\n  Contributing Factors. Career Move - Private Sector   \\\n0                                                NaN    \n1                                                  -    \n2                                                  -    \n3                                                  -    \n4                       Career Move - Private Sector    \n\n  Contributing Factors. Career Move - Self-employment  \\\n0                                                NaN    \n1                                                  -    \n2                                                  -    \n3                                                  -    \n4                                                  -    \n\n  Contributing Factors. Ill Health Contributing Factors. Maternity/Family  \\\n0                              NaN                                    NaN   \n1                                -                                      -   \n2                                -                                      -   \n3                                -                                      -   \n4                                -                                      -   \n\n   ...  \\\n0  ...   \n1  ...   \n2  ...   \n3  ...   \n4  ...   \n\n  Workplace. Topic:Does your workplace promote a work culture free from all forms of unlawful discrimination?  \\\n0                                                Yes                                                            \n1                                                Yes                                                            \n2                                                Yes                                                            \n3                                                Yes                                                            \n4                                                Yes                                                            \n\n  Workplace. Topic:Does your workplace promote and practice the principles of employment equity?  \\\n0                                                Yes                                               \n1                                                Yes                                               \n2                                                Yes                                               \n3                                                Yes                                               \n4                                                Yes                                               \n\n  Workplace. Topic:Does your workplace value the diversity of its employees?  \\\n0                                                Yes                           \n1                                                Yes                           \n2                                                Yes                           \n3                                                Yes                           \n4                                                Yes                           \n\n  Workplace. Topic:Would you recommend the Institute as an employer to others?  \\\n0                                                Yes                             \n1                                                Yes                             \n2                                                Yes                             \n3                                                Yes                             \n4                                                Yes                             \n\n  Gender. What is your Gender? CurrentAge. Current Age  \\\n0                       Female                  26  30   \n1                          NaN                     NaN   \n2                          NaN                     NaN   \n3                          NaN                     NaN   \n4                         Male                  41  45   \n\n  Employment Type. Employment Type Classification. Classification  \\\n0              Temporary Full-time            Administration (AO)   \n1                              NaN                            NaN   \n2                              NaN                            NaN   \n3                              NaN                            NaN   \n4              Permanent Full-time        Teacher (including LVT)   \n\n  LengthofServiceOverall. Overall Length of Service at Institute (in years)  \\\n0                                                1-2                          \n1                                                NaN                          \n2                                                NaN                          \n3                                                NaN                          \n4                                                3-4                          \n\n  LengthofServiceCurrent. Length of Service at current workplace (in years)  \n0                                                1-2                         \n1                                                NaN                         \n2                                                NaN                         \n3                                                NaN                         \n4                                                3-4                         \n\n[5 rows x 72 columns]",
      "text/html": "<div>\n<style scoped>\n    .dataframe tbody tr th:only-of-type {\n        vertical-align: middle;\n    }\n\n    .dataframe tbody tr th {\n        vertical-align: top;\n    }\n\n    .dataframe thead th {\n        text-align: right;\n    }\n</style>\n<table border=\"1\" class=\"dataframe\">\n  <thead>\n    <tr style=\"text-align: right;\">\n      <th></th>\n      <th>Record ID</th>\n      <th>Institute</th>\n      <th>WorkArea</th>\n      <th>CESSATION YEAR</th>\n      <th>Reason for ceasing employment</th>\n      <th>Contributing Factors. Career Move - Public Sector</th>\n      <th>Contributing Factors. Career Move - Private Sector</th>\n      <th>Contributing Factors. Career Move - Self-employment</th>\n      <th>Contributing Factors. Ill Health</th>\n      <th>Contributing Factors. Maternity/Family</th>\n      <th>...</th>\n      <th>Workplace. Topic:Does your workplace promote a work culture free from all forms of unlawful discrimination?</th>\n      <th>Workplace. Topic:Does your workplace promote and practice the principles of employment equity?</th>\n      <th>Workplace. Topic:Does your workplace value the diversity of its employees?</th>\n      <th>Workplace. Topic:Would you recommend the Institute as an employer to others?</th>\n      <th>Gender. What is your Gender?</th>\n      <th>CurrentAge. Current Age</th>\n      <th>Employment Type. Employment Type</th>\n      <th>Classification. Classification</th>\n      <th>LengthofServiceOverall. Overall Length of Service at Institute (in years)</th>\n      <th>LengthofServiceCurrent. Length of Service at current workplace (in years)</th>\n    </tr>\n  </thead>\n  <tbody>\n    <tr>\n      <th>0</th>\n      <td>6.341330e+17</td>\n      <td>Southern Queensland Institute of TAFE</td>\n      <td>Non-Delivery (corporate)</td>\n      <td>2010.0</td>\n      <td>Contract Expired</td>\n      <td>NaN</td>\n      <td>NaN</td>\n      <td>NaN</td>\n      <td>NaN</td>\n      <td>NaN</td>\n      <td>...</td>\n      <td>Yes</td>\n      <td>Yes</td>\n      <td>Yes</td>\n      <td>Yes</td>\n      <td>Female</td>\n      <td>26  30</td>\n      <td>Temporary Full-time</td>\n      <td>Administration (AO)</td>\n      <td>1-2</td>\n      <td>1-2</td>\n    </tr>\n    <tr>\n      <th>1</th>\n      <td>6.341337e+17</td>\n      <td>Mount Isa Institute of TAFE</td>\n      <td>Non-Delivery (corporate)</td>\n      <td>2010.0</td>\n      <td>Retirement</td>\n      <td>-</td>\n      <td>-</td>\n      <td>-</td>\n      <td>-</td>\n      <td>-</td>\n      <td>...</td>\n      <td>Yes</td>\n      <td>Yes</td>\n      <td>Yes</td>\n      <td>Yes</td>\n      <td>NaN</td>\n      <td>NaN</td>\n      <td>NaN</td>\n      <td>NaN</td>\n      <td>NaN</td>\n      <td>NaN</td>\n    </tr>\n    <tr>\n      <th>2</th>\n      <td>6.341388e+17</td>\n      <td>Mount Isa Institute of TAFE</td>\n      <td>Delivery (teaching)</td>\n      <td>2010.0</td>\n      <td>Retirement</td>\n      <td>-</td>\n      <td>-</td>\n      <td>-</td>\n      <td>-</td>\n      <td>-</td>\n      <td>...</td>\n      <td>Yes</td>\n      <td>Yes</td>\n      <td>Yes</td>\n      <td>Yes</td>\n      <td>NaN</td>\n      <td>NaN</td>\n      <td>NaN</td>\n      <td>NaN</td>\n      <td>NaN</td>\n      <td>NaN</td>\n    </tr>\n    <tr>\n      <th>3</th>\n      <td>6.341399e+17</td>\n      <td>Mount Isa Institute of TAFE</td>\n      <td>Non-Delivery (corporate)</td>\n      <td>2010.0</td>\n      <td>Resignation</td>\n      <td>-</td>\n      <td>-</td>\n      <td>-</td>\n      <td>-</td>\n      <td>-</td>\n      <td>...</td>\n      <td>Yes</td>\n      <td>Yes</td>\n      <td>Yes</td>\n      <td>Yes</td>\n      <td>NaN</td>\n      <td>NaN</td>\n      <td>NaN</td>\n      <td>NaN</td>\n      <td>NaN</td>\n      <td>NaN</td>\n    </tr>\n    <tr>\n      <th>4</th>\n      <td>6.341466e+17</td>\n      <td>Southern Queensland Institute of TAFE</td>\n      <td>Delivery (teaching)</td>\n      <td>2010.0</td>\n      <td>Resignation</td>\n      <td>-</td>\n      <td>Career Move - Private Sector</td>\n      <td>-</td>\n      <td>-</td>\n      <td>-</td>\n      <td>...</td>\n      <td>Yes</td>\n      <td>Yes</td>\n      <td>Yes</td>\n      <td>Yes</td>\n      <td>Male</td>\n      <td>41  45</td>\n      <td>Permanent Full-time</td>\n      <td>Teacher (including LVT)</td>\n      <td>3-4</td>\n      <td>3-4</td>\n    </tr>\n  </tbody>\n</table>\n<p>5 rows × 72 columns</p>\n</div>"
     },
     "metadata": {},
     "execution_count": 6
    }
   ],
   "source": [
    "tafe_survey.head()"
   ]
  },
  {
   "cell_type": "markdown",
   "metadata": {},
   "source": [
    "both surveys have 'Not started' in date columns whihc can be converted to NaN\n",
    "Both have too many unnecessary columns "
   ]
  },
  {
   "cell_type": "code",
   "execution_count": 7,
   "metadata": {},
   "outputs": [
    {
     "output_type": "stream",
     "name": "stdout",
     "text": "<class 'pandas.core.frame.DataFrame'>\nRangeIndex: 702 entries, 0 to 701\nData columns (total 72 columns):\nRecord ID                                                                                                                                                        702 non-null float64\nInstitute                                                                                                                                                        702 non-null object\nWorkArea                                                                                                                                                         702 non-null object\nCESSATION YEAR                                                                                                                                                   695 non-null float64\nReason for ceasing employment                                                                                                                                    701 non-null object\nContributing Factors. Career Move - Public Sector                                                                                                                437 non-null object\nContributing Factors. Career Move - Private Sector                                                                                                               437 non-null object\nContributing Factors. Career Move - Self-employment                                                                                                              437 non-null object\nContributing Factors. Ill Health                                                                                                                                 437 non-null object\nContributing Factors. Maternity/Family                                                                                                                           437 non-null object\nContributing Factors. Dissatisfaction                                                                                                                            437 non-null object\nContributing Factors. Job Dissatisfaction                                                                                                                        437 non-null object\nContributing Factors. Interpersonal Conflict                                                                                                                     437 non-null object\nContributing Factors. Study                                                                                                                                      437 non-null object\nContributing Factors. Travel                                                                                                                                     437 non-null object\nContributing Factors. Other                                                                                                                                      437 non-null object\nContributing Factors. NONE                                                                                                                                       437 non-null object\nMain Factor. Which of these was the main factor for leaving?                                                                                                     113 non-null object\nInstituteViews. Topic:1. I feel the senior leadership had a clear vision and direction                                                                           608 non-null object\nInstituteViews. Topic:2. I was given access to skills training to help me do my job better                                                                       613 non-null object\nInstituteViews. Topic:3. I was given adequate opportunities for personal development                                                                             610 non-null object\nInstituteViews. Topic:4. I was given adequate opportunities for promotion within %Institute]Q25LBL%                                                              608 non-null object\nInstituteViews. Topic:5. I felt the salary for the job was right for the responsibilities I had                                                                  615 non-null object\nInstituteViews. Topic:6. The organisation recognised when staff did good work                                                                                    607 non-null object\nInstituteViews. Topic:7. Management was generally supportive of me                                                                                               614 non-null object\nInstituteViews. Topic:8. Management was generally supportive of my team                                                                                          608 non-null object\nInstituteViews. Topic:9. I was kept informed of the changes in the organisation which would affect me                                                            610 non-null object\nInstituteViews. Topic:10. Staff morale was positive within the Institute                                                                                         602 non-null object\nInstituteViews. Topic:11. If I had a workplace issue it was dealt with quickly                                                                                   601 non-null object\nInstituteViews. Topic:12. If I had a workplace issue it was dealt with efficiently                                                                               597 non-null object\nInstituteViews. Topic:13. If I had a workplace issue it was dealt with discreetly                                                                                601 non-null object\nWorkUnitViews. Topic:14. I was satisfied with the quality of the management and supervision within my work unit                                                  609 non-null object\nWorkUnitViews. Topic:15. I worked well with my colleagues                                                                                                        605 non-null object\nWorkUnitViews. Topic:16. My job was challenging and interesting                                                                                                  607 non-null object\nWorkUnitViews. Topic:17. I was encouraged to use my initiative in the course of my work                                                                          610 non-null object\nWorkUnitViews. Topic:18. I had sufficient contact with other people in my job                                                                                    613 non-null object\nWorkUnitViews. Topic:19. I was given adequate support and co-operation by my peers to enable me to do my job                                                     609 non-null object\nWorkUnitViews. Topic:20. I was able to use the full range of my skills in my job                                                                                 609 non-null object\nWorkUnitViews. Topic:21. I was able to use the full range of my abilities in my job. ; Category:Level of Agreement; Question:YOUR VIEWS ABOUT YOUR WORK UNIT]    608 non-null object\nWorkUnitViews. Topic:22. I was able to use the full range of my knowledge in my job                                                                              608 non-null object\nWorkUnitViews. Topic:23. My job provided sufficient variety                                                                                                      611 non-null object\nWorkUnitViews. Topic:24. I was able to cope with the level of stress and pressure in my job                                                                      610 non-null object\nWorkUnitViews. Topic:25. My job allowed me to balance the demands of work and family to my satisfaction                                                          611 non-null object\nWorkUnitViews. Topic:26. My supervisor gave me adequate personal recognition and feedback on my performance                                                      606 non-null object\nWorkUnitViews. Topic:27. My working environment was satisfactory e.g. sufficient space, good lighting, suitable seating and working area                         610 non-null object\nWorkUnitViews. Topic:28. I was given the opportunity to mentor and coach others in order for me to pass on my skills and knowledge prior to my cessation date    609 non-null object\nWorkUnitViews. Topic:29. There was adequate communication between staff in my unit                                                                               603 non-null object\nWorkUnitViews. Topic:30. Staff morale was positive within my work unit                                                                                           606 non-null object\nInduction. Did you undertake Workplace Induction?                                                                                                                619 non-null object\nInductionInfo. Topic:Did you undertake a Corporate Induction?                                                                                                    432 non-null object\nInductionInfo. Topic:Did you undertake a Institute Induction?                                                                                                    483 non-null object\nInductionInfo. Topic: Did you undertake Team Induction?                                                                                                          440 non-null object\nInductionInfo. Face to Face Topic:Did you undertake a Corporate Induction; Category:How it was conducted?                                                        555 non-null object\nInductionInfo. On-line Topic:Did you undertake a Corporate Induction; Category:How it was conducted?                                                             555 non-null object\nInductionInfo. Induction Manual Topic:Did you undertake a Corporate Induction?                                                                                   555 non-null object\nInductionInfo. Face to Face Topic:Did you undertake a Institute Induction?                                                                                       530 non-null object\nInductionInfo. On-line Topic:Did you undertake a Institute Induction?                                                                                            555 non-null object\nInductionInfo. Induction Manual Topic:Did you undertake a Institute Induction?                                                                                   553 non-null object\nInductionInfo. Face to Face Topic: Did you undertake Team Induction; Category?                                                                                   555 non-null object\nInductionInfo. On-line Topic: Did you undertake Team Induction?process you undertook and how it was conducted.]                                                  555 non-null object\nInductionInfo. Induction Manual Topic: Did you undertake Team Induction?                                                                                         555 non-null object\nWorkplace. Topic:Did you and your Manager develop a Performance and Professional Development Plan (PPDP)?                                                        608 non-null object\nWorkplace. Topic:Does your workplace promote a work culture free from all forms of unlawful discrimination?                                                      594 non-null object\nWorkplace. Topic:Does your workplace promote and practice the principles of employment equity?                                                                   587 non-null object\nWorkplace. Topic:Does your workplace value the diversity of its employees?                                                                                       586 non-null object\nWorkplace. Topic:Would you recommend the Institute as an employer to others?                                                                                     581 non-null object\nGender. What is your Gender?                                                                                                                                     596 non-null object\nCurrentAge. Current Age                                                                                                                                          596 non-null object\nEmployment Type. Employment Type                                                                                                                                 596 non-null object\nClassification. Classification                                                                                                                                   596 non-null object\nLengthofServiceOverall. Overall Length of Service at Institute (in years)                                                                                        596 non-null object\nLengthofServiceCurrent. Length of Service at current workplace (in years)                                                                                        596 non-null object\ndtypes: float64(2), object(70)\nmemory usage: 395.0+ KB\n"
    }
   ],
   "source": [
    "tafe_survey.info()"
   ]
  },
  {
   "cell_type": "code",
   "execution_count": 8,
   "metadata": {},
   "outputs": [
    {
     "output_type": "execute_result",
     "data": {
      "text/plain": "Index(['ID', 'SeparationType', 'Cease Date', 'DETE Start Date',\n       'Role Start Date', 'Position', 'Classification', 'Region',\n       'Business Unit', 'Employment Status', 'Career move to public sector',\n       'Career move to private sector', 'Interpersonal conflicts',\n       'Job dissatisfaction', 'Dissatisfaction with the department',\n       'Physical work environment', 'Lack of recognition',\n       'Lack of job security', 'Work location', 'Employment conditions',\n       'Maternity/family', 'Relocation', 'Study/Travel', 'Ill Health',\n       'Traumatic incident', 'Work life balance', 'Workload',\n       'None of the above', 'Professional Development',\n       'Opportunities for promotion', 'Staff morale', 'Workplace issue',\n       'Physical environment', 'Worklife balance',\n       'Stress and pressure support', 'Performance of supervisor',\n       'Peer support', 'Initiative', 'Skills', 'Coach', 'Career Aspirations',\n       'Feedback', 'Further PD', 'Communication', 'My say', 'Information',\n       'Kept informed', 'Wellness programs', 'Health & Safety', 'Gender',\n       'Age', 'Aboriginal', 'Torres Strait', 'South Sea', 'Disability',\n       'NESB'],\n      dtype='object')"
     },
     "metadata": {},
     "execution_count": 8
    }
   ],
   "source": [
    "dete_survey.columns"
   ]
  },
  {
   "cell_type": "code",
   "execution_count": 9,
   "metadata": {},
   "outputs": [
    {
     "output_type": "execute_result",
     "data": {
      "text/plain": "Index(['Record ID', 'Institute', 'WorkArea', 'CESSATION YEAR',\n       'Reason for ceasing employment',\n       'Contributing Factors. Career Move - Public Sector ',\n       'Contributing Factors. Career Move - Private Sector ',\n       'Contributing Factors. Career Move - Self-employment',\n       'Contributing Factors. Ill Health',\n       'Contributing Factors. Maternity/Family',\n       'Contributing Factors. Dissatisfaction',\n       'Contributing Factors. Job Dissatisfaction',\n       'Contributing Factors. Interpersonal Conflict',\n       'Contributing Factors. Study', 'Contributing Factors. Travel',\n       'Contributing Factors. Other', 'Contributing Factors. NONE',\n       'Main Factor. Which of these was the main factor for leaving?',\n       'InstituteViews. Topic:1. I feel the senior leadership had a clear vision and direction',\n       'InstituteViews. Topic:2. I was given access to skills training to help me do my job better',\n       'InstituteViews. Topic:3. I was given adequate opportunities for personal development',\n       'InstituteViews. Topic:4. I was given adequate opportunities for promotion within %Institute]Q25LBL%',\n       'InstituteViews. Topic:5. I felt the salary for the job was right for the responsibilities I had',\n       'InstituteViews. Topic:6. The organisation recognised when staff did good work',\n       'InstituteViews. Topic:7. Management was generally supportive of me',\n       'InstituteViews. Topic:8. Management was generally supportive of my team',\n       'InstituteViews. Topic:9. I was kept informed of the changes in the organisation which would affect me',\n       'InstituteViews. Topic:10. Staff morale was positive within the Institute',\n       'InstituteViews. Topic:11. If I had a workplace issue it was dealt with quickly',\n       'InstituteViews. Topic:12. If I had a workplace issue it was dealt with efficiently',\n       'InstituteViews. Topic:13. If I had a workplace issue it was dealt with discreetly',\n       'WorkUnitViews. Topic:14. I was satisfied with the quality of the management and supervision within my work unit',\n       'WorkUnitViews. Topic:15. I worked well with my colleagues',\n       'WorkUnitViews. Topic:16. My job was challenging and interesting',\n       'WorkUnitViews. Topic:17. I was encouraged to use my initiative in the course of my work',\n       'WorkUnitViews. Topic:18. I had sufficient contact with other people in my job',\n       'WorkUnitViews. Topic:19. I was given adequate support and co-operation by my peers to enable me to do my job',\n       'WorkUnitViews. Topic:20. I was able to use the full range of my skills in my job',\n       'WorkUnitViews. Topic:21. I was able to use the full range of my abilities in my job. ; Category:Level of Agreement; Question:YOUR VIEWS ABOUT YOUR WORK UNIT]',\n       'WorkUnitViews. Topic:22. I was able to use the full range of my knowledge in my job',\n       'WorkUnitViews. Topic:23. My job provided sufficient variety',\n       'WorkUnitViews. Topic:24. I was able to cope with the level of stress and pressure in my job',\n       'WorkUnitViews. Topic:25. My job allowed me to balance the demands of work and family to my satisfaction',\n       'WorkUnitViews. Topic:26. My supervisor gave me adequate personal recognition and feedback on my performance',\n       'WorkUnitViews. Topic:27. My working environment was satisfactory e.g. sufficient space, good lighting, suitable seating and working area',\n       'WorkUnitViews. Topic:28. I was given the opportunity to mentor and coach others in order for me to pass on my skills and knowledge prior to my cessation date',\n       'WorkUnitViews. Topic:29. There was adequate communication between staff in my unit',\n       'WorkUnitViews. Topic:30. Staff morale was positive within my work unit',\n       'Induction. Did you undertake Workplace Induction?',\n       'InductionInfo. Topic:Did you undertake a Corporate Induction?',\n       'InductionInfo. Topic:Did you undertake a Institute Induction?',\n       'InductionInfo. Topic: Did you undertake Team Induction?',\n       'InductionInfo. Face to Face Topic:Did you undertake a Corporate Induction; Category:How it was conducted?',\n       'InductionInfo. On-line Topic:Did you undertake a Corporate Induction; Category:How it was conducted?',\n       'InductionInfo. Induction Manual Topic:Did you undertake a Corporate Induction?',\n       'InductionInfo. Face to Face Topic:Did you undertake a Institute Induction?',\n       'InductionInfo. On-line Topic:Did you undertake a Institute Induction?',\n       'InductionInfo. Induction Manual Topic:Did you undertake a Institute Induction?',\n       'InductionInfo. Face to Face Topic: Did you undertake Team Induction; Category?',\n       'InductionInfo. On-line Topic: Did you undertake Team Induction?process you undertook and how it was conducted.]',\n       'InductionInfo. Induction Manual Topic: Did you undertake Team Induction?',\n       'Workplace. Topic:Did you and your Manager develop a Performance and Professional Development Plan (PPDP)?',\n       'Workplace. Topic:Does your workplace promote a work culture free from all forms of unlawful discrimination?',\n       'Workplace. Topic:Does your workplace promote and practice the principles of employment equity?',\n       'Workplace. Topic:Does your workplace value the diversity of its employees?',\n       'Workplace. Topic:Would you recommend the Institute as an employer to others?',\n       'Gender. What is your Gender?', 'CurrentAge. Current Age',\n       'Employment Type. Employment Type', 'Classification. Classification',\n       'LengthofServiceOverall. Overall Length of Service at Institute (in years)',\n       'LengthofServiceCurrent. Length of Service at current workplace (in years)'],\n      dtype='object')"
     },
     "metadata": {},
     "execution_count": 9
    }
   ],
   "source": [
    "tafe_survey.columns"
   ]
  },
  {
   "cell_type": "markdown",
   "metadata": {},
   "source": [
    "*******************************************\n",
    "Let's convert Not Started values to NaN"
   ]
  },
  {
   "cell_type": "code",
   "execution_count": 10,
   "metadata": {},
   "outputs": [],
   "source": [
    "dete_survey = pd.read_csv('dete_survey.csv',na_values='Not Stated')\n",
    "tafe_survey = pd.read_csv('tafe_survey.csv',na_values='Not Started')"
   ]
  },
  {
   "cell_type": "code",
   "execution_count": 11,
   "metadata": {},
   "outputs": [
    {
     "output_type": "execute_result",
     "data": {
      "text/plain": "   ID                    SeparationType Cease Date  DETE Start Date  \\\n0   1             Ill Health Retirement    08/2012           1984.0   \n1   2  Voluntary Early Retirement (VER)    08/2012              NaN   \n2   3  Voluntary Early Retirement (VER)    05/2012           2011.0   \n3   4         Resignation-Other reasons    05/2012           2005.0   \n4   5                    Age Retirement    05/2012           1970.0   \n\n   Role Start Date                                      Position  \\\n0           2004.0                                Public Servant   \n1              NaN                                Public Servant   \n2           2011.0                               Schools Officer   \n3           2006.0                                       Teacher   \n4           1989.0  Head of Curriculum/Head of Special Education   \n\n  Classification              Region                      Business Unit  \\\n0        A01-A04      Central Office  Corporate Strategy and Peformance   \n1        AO5-AO7      Central Office  Corporate Strategy and Peformance   \n2            NaN      Central Office               Education Queensland   \n3        Primary  Central Queensland                                NaN   \n4            NaN          South East                                NaN   \n\n     Employment Status  ...  Kept informed  Wellness programs  \\\n0  Permanent Full-time  ...              N                  N   \n1  Permanent Full-time  ...              N                  N   \n2  Permanent Full-time  ...              N                  N   \n3  Permanent Full-time  ...              A                  N   \n4  Permanent Full-time  ...              N                  A   \n\n   Health & Safety  Gender          Age  Aboriginal  Torres Strait  South Sea  \\\n0                N    Male        56-60         NaN            NaN        NaN   \n1                N    Male        56-60         NaN            NaN        NaN   \n2                N    Male  61 or older         NaN            NaN        NaN   \n3                A  Female        36-40         NaN            NaN        NaN   \n4                M  Female  61 or older         NaN            NaN        NaN   \n\n   Disability  NESB  \n0         NaN   Yes  \n1         NaN   NaN  \n2         NaN   NaN  \n3         NaN   NaN  \n4         NaN   NaN  \n\n[5 rows x 56 columns]",
      "text/html": "<div>\n<style scoped>\n    .dataframe tbody tr th:only-of-type {\n        vertical-align: middle;\n    }\n\n    .dataframe tbody tr th {\n        vertical-align: top;\n    }\n\n    .dataframe thead th {\n        text-align: right;\n    }\n</style>\n<table border=\"1\" class=\"dataframe\">\n  <thead>\n    <tr style=\"text-align: right;\">\n      <th></th>\n      <th>ID</th>\n      <th>SeparationType</th>\n      <th>Cease Date</th>\n      <th>DETE Start Date</th>\n      <th>Role Start Date</th>\n      <th>Position</th>\n      <th>Classification</th>\n      <th>Region</th>\n      <th>Business Unit</th>\n      <th>Employment Status</th>\n      <th>...</th>\n      <th>Kept informed</th>\n      <th>Wellness programs</th>\n      <th>Health &amp; Safety</th>\n      <th>Gender</th>\n      <th>Age</th>\n      <th>Aboriginal</th>\n      <th>Torres Strait</th>\n      <th>South Sea</th>\n      <th>Disability</th>\n      <th>NESB</th>\n    </tr>\n  </thead>\n  <tbody>\n    <tr>\n      <th>0</th>\n      <td>1</td>\n      <td>Ill Health Retirement</td>\n      <td>08/2012</td>\n      <td>1984.0</td>\n      <td>2004.0</td>\n      <td>Public Servant</td>\n      <td>A01-A04</td>\n      <td>Central Office</td>\n      <td>Corporate Strategy and Peformance</td>\n      <td>Permanent Full-time</td>\n      <td>...</td>\n      <td>N</td>\n      <td>N</td>\n      <td>N</td>\n      <td>Male</td>\n      <td>56-60</td>\n      <td>NaN</td>\n      <td>NaN</td>\n      <td>NaN</td>\n      <td>NaN</td>\n      <td>Yes</td>\n    </tr>\n    <tr>\n      <th>1</th>\n      <td>2</td>\n      <td>Voluntary Early Retirement (VER)</td>\n      <td>08/2012</td>\n      <td>NaN</td>\n      <td>NaN</td>\n      <td>Public Servant</td>\n      <td>AO5-AO7</td>\n      <td>Central Office</td>\n      <td>Corporate Strategy and Peformance</td>\n      <td>Permanent Full-time</td>\n      <td>...</td>\n      <td>N</td>\n      <td>N</td>\n      <td>N</td>\n      <td>Male</td>\n      <td>56-60</td>\n      <td>NaN</td>\n      <td>NaN</td>\n      <td>NaN</td>\n      <td>NaN</td>\n      <td>NaN</td>\n    </tr>\n    <tr>\n      <th>2</th>\n      <td>3</td>\n      <td>Voluntary Early Retirement (VER)</td>\n      <td>05/2012</td>\n      <td>2011.0</td>\n      <td>2011.0</td>\n      <td>Schools Officer</td>\n      <td>NaN</td>\n      <td>Central Office</td>\n      <td>Education Queensland</td>\n      <td>Permanent Full-time</td>\n      <td>...</td>\n      <td>N</td>\n      <td>N</td>\n      <td>N</td>\n      <td>Male</td>\n      <td>61 or older</td>\n      <td>NaN</td>\n      <td>NaN</td>\n      <td>NaN</td>\n      <td>NaN</td>\n      <td>NaN</td>\n    </tr>\n    <tr>\n      <th>3</th>\n      <td>4</td>\n      <td>Resignation-Other reasons</td>\n      <td>05/2012</td>\n      <td>2005.0</td>\n      <td>2006.0</td>\n      <td>Teacher</td>\n      <td>Primary</td>\n      <td>Central Queensland</td>\n      <td>NaN</td>\n      <td>Permanent Full-time</td>\n      <td>...</td>\n      <td>A</td>\n      <td>N</td>\n      <td>A</td>\n      <td>Female</td>\n      <td>36-40</td>\n      <td>NaN</td>\n      <td>NaN</td>\n      <td>NaN</td>\n      <td>NaN</td>\n      <td>NaN</td>\n    </tr>\n    <tr>\n      <th>4</th>\n      <td>5</td>\n      <td>Age Retirement</td>\n      <td>05/2012</td>\n      <td>1970.0</td>\n      <td>1989.0</td>\n      <td>Head of Curriculum/Head of Special Education</td>\n      <td>NaN</td>\n      <td>South East</td>\n      <td>NaN</td>\n      <td>Permanent Full-time</td>\n      <td>...</td>\n      <td>N</td>\n      <td>A</td>\n      <td>M</td>\n      <td>Female</td>\n      <td>61 or older</td>\n      <td>NaN</td>\n      <td>NaN</td>\n      <td>NaN</td>\n      <td>NaN</td>\n      <td>NaN</td>\n    </tr>\n  </tbody>\n</table>\n<p>5 rows × 56 columns</p>\n</div>"
     },
     "metadata": {},
     "execution_count": 11
    }
   ],
   "source": [
    "dete_survey.head()"
   ]
  },
  {
   "cell_type": "markdown",
   "metadata": {},
   "source": [
    "****************\n",
    "dropping columns that are unnecessary for analysis"
   ]
  },
  {
   "cell_type": "code",
   "execution_count": 12,
   "metadata": {},
   "outputs": [],
   "source": [
    "dete_survey_updated = dete_survey.drop(columns=dete_survey.columns[28:49],axis=1)"
   ]
  },
  {
   "cell_type": "code",
   "execution_count": 13,
   "metadata": {},
   "outputs": [
    {
     "output_type": "stream",
     "name": "stdout",
     "text": "56 35\n"
    }
   ],
   "source": [
    "print(len(dete_survey.columns),len(dete_survey_updated.columns))"
   ]
  },
  {
   "cell_type": "code",
   "execution_count": 14,
   "metadata": {},
   "outputs": [],
   "source": [
    "tafe_survey_updated = tafe_survey.drop(columns=tafe_survey.columns[17:66],axis=1)"
   ]
  },
  {
   "cell_type": "code",
   "execution_count": 15,
   "metadata": {},
   "outputs": [
    {
     "output_type": "stream",
     "name": "stdout",
     "text": "72 23\n"
    }
   ],
   "source": [
    "print(len(tafe_survey.columns),len(tafe_survey_updated.columns))"
   ]
  },
  {
   "cell_type": "markdown",
   "metadata": {},
   "source": [
    "*******\n",
    "Cleaning the column names "
   ]
  },
  {
   "cell_type": "code",
   "execution_count": 16,
   "metadata": {},
   "outputs": [
    {
     "output_type": "execute_result",
     "data": {
      "text/plain": "Index(['ID', 'SeparationType', 'Cease Date', 'DETE Start Date',\n       'Role Start Date', 'Position', 'Classification', 'Region',\n       'Business Unit', 'Employment Status', 'Career move to public sector',\n       'Career move to private sector', 'Interpersonal conflicts',\n       'Job dissatisfaction', 'Dissatisfaction with the department',\n       'Physical work environment', 'Lack of recognition',\n       'Lack of job security', 'Work location', 'Employment conditions',\n       'Maternity/family', 'Relocation', 'Study/Travel', 'Ill Health',\n       'Traumatic incident', 'Work life balance', 'Workload',\n       'None of the above', 'Gender', 'Age', 'Aboriginal', 'Torres Strait',\n       'South Sea', 'Disability', 'NESB'],\n      dtype='object')"
     },
     "metadata": {},
     "execution_count": 16
    }
   ],
   "source": [
    "dete_survey_updated.columns"
   ]
  },
  {
   "cell_type": "code",
   "execution_count": 17,
   "metadata": {},
   "outputs": [],
   "source": [
    "dete_survey_updated.columns = dete_survey_updated.columns.str.lower().str.strip().str.replace(' ','_')"
   ]
  },
  {
   "cell_type": "code",
   "execution_count": 18,
   "metadata": {},
   "outputs": [
    {
     "output_type": "execute_result",
     "data": {
      "text/plain": "Index(['id', 'separationtype', 'cease_date', 'dete_start_date',\n       'role_start_date', 'position', 'classification', 'region',\n       'business_unit', 'employment_status', 'career_move_to_public_sector',\n       'career_move_to_private_sector', 'interpersonal_conflicts',\n       'job_dissatisfaction', 'dissatisfaction_with_the_department',\n       'physical_work_environment', 'lack_of_recognition',\n       'lack_of_job_security', 'work_location', 'employment_conditions',\n       'maternity/family', 'relocation', 'study/travel', 'ill_health',\n       'traumatic_incident', 'work_life_balance', 'workload',\n       'none_of_the_above', 'gender', 'age', 'aboriginal', 'torres_strait',\n       'south_sea', 'disability', 'nesb'],\n      dtype='object')"
     },
     "metadata": {},
     "execution_count": 18
    }
   ],
   "source": [
    "dete_survey_updated.columns"
   ]
  },
  {
   "cell_type": "code",
   "execution_count": 19,
   "metadata": {},
   "outputs": [
    {
     "output_type": "execute_result",
     "data": {
      "text/plain": "Index(['Record ID', 'Institute', 'WorkArea', 'CESSATION YEAR',\n       'Reason for ceasing employment',\n       'Contributing Factors. Career Move - Public Sector ',\n       'Contributing Factors. Career Move - Private Sector ',\n       'Contributing Factors. Career Move - Self-employment',\n       'Contributing Factors. Ill Health',\n       'Contributing Factors. Maternity/Family',\n       'Contributing Factors. Dissatisfaction',\n       'Contributing Factors. Job Dissatisfaction',\n       'Contributing Factors. Interpersonal Conflict',\n       'Contributing Factors. Study', 'Contributing Factors. Travel',\n       'Contributing Factors. Other', 'Contributing Factors. NONE',\n       'Gender. What is your Gender?', 'CurrentAge. Current Age',\n       'Employment Type. Employment Type', 'Classification. Classification',\n       'LengthofServiceOverall. Overall Length of Service at Institute (in years)',\n       'LengthofServiceCurrent. Length of Service at current workplace (in years)'],\n      dtype='object')"
     },
     "metadata": {},
     "execution_count": 19
    }
   ],
   "source": [
    "tafe_survey_updated.columns"
   ]
  },
  {
   "cell_type": "code",
   "execution_count": 20,
   "metadata": {},
   "outputs": [],
   "source": [
    "tafe_column_change = {'Record ID': 'id',\n",
    "'CESSATION YEAR' : 'cease_date',\n",
    "'Reason for ceasing employment': 'separationtype',\n",
    "'Gender. What is your Gender?': 'gender',\n",
    "'CurrentAge. Current Age': 'age',\n",
    "'Employment Type. Employment Type': 'employment_status',\n",
    "'Classification. Classification': 'position',\n",
    "'LengthofServiceOverall. Overall Length of Service at Institute (in years)': 'institute_service',\n",
    "'LengthofServiceCurrent. Length of Service at current workplace (in years)': 'role_service'}\n",
    "\n",
    "tafe_survey_updated.rename(columns = tafe_column_change,inplace = True)"
   ]
  },
  {
   "cell_type": "code",
   "execution_count": 21,
   "metadata": {},
   "outputs": [
    {
     "output_type": "execute_result",
     "data": {
      "text/plain": "Index(['id', 'Institute', 'WorkArea', 'cease_date', 'separationtype',\n       'Contributing Factors. Career Move - Public Sector ',\n       'Contributing Factors. Career Move - Private Sector ',\n       'Contributing Factors. Career Move - Self-employment',\n       'Contributing Factors. Ill Health',\n       'Contributing Factors. Maternity/Family',\n       'Contributing Factors. Dissatisfaction',\n       'Contributing Factors. Job Dissatisfaction',\n       'Contributing Factors. Interpersonal Conflict',\n       'Contributing Factors. Study', 'Contributing Factors. Travel',\n       'Contributing Factors. Other', 'Contributing Factors. NONE', 'gender',\n       'age', 'employment_status', 'position', 'institute_service',\n       'role_service'],\n      dtype='object')"
     },
     "metadata": {},
     "execution_count": 21
    }
   ],
   "source": [
    "tafe_survey_updated.columns"
   ]
  },
  {
   "cell_type": "markdown",
   "metadata": {},
   "source": [
    "Cleaned dete_survey_updated names stripped whitespaces at the ends and changed to snake_case\n",
    "\n",
    "changed tafe_survey_updated column names to match equivalent dete_survey_updated column names\n",
    "\n",
    "**********\n",
    "\n"
   ]
  },
  {
   "cell_type": "code",
   "execution_count": 22,
   "metadata": {},
   "outputs": [
    {
     "output_type": "execute_result",
     "data": {
      "text/plain": "Age Retirement                          285\nResignation-Other reasons               150\nResignation-Other employer               91\nResignation-Move overseas/interstate     70\nVoluntary Early Retirement (VER)         67\nIll Health Retirement                    61\nOther                                    49\nContract Expired                         34\nTermination                              15\nName: separationtype, dtype: int64"
     },
     "metadata": {},
     "execution_count": 22
    }
   ],
   "source": [
    "dete_survey_updated['separationtype'].value_counts()"
   ]
  },
  {
   "cell_type": "markdown",
   "metadata": {},
   "source": [
    "dete_survey_updated has multiple seperation types with string 'Resignation'\n",
    "Creating a seperate dataframe to study the resignations seperately"
   ]
  },
  {
   "cell_type": "code",
   "execution_count": 23,
   "metadata": {},
   "outputs": [
    {
     "output_type": "execute_result",
     "data": {
      "text/plain": "Resignation                 340\nContract Expired            127\nRetrenchment/ Redundancy    104\nRetirement                   82\nTransfer                     25\nTermination                  23\nName: separationtype, dtype: int64"
     },
     "metadata": {},
     "execution_count": 23
    }
   ],
   "source": [
    "tafe_survey_updated['separationtype'].value_counts() "
   ]
  },
  {
   "cell_type": "code",
   "execution_count": 24,
   "metadata": {},
   "outputs": [],
   "source": [
    "dete_resignations = dete_survey_updated.copy()\n",
    "tafe_resignations = tafe_survey_updated.copy()"
   ]
  },
  {
   "cell_type": "code",
   "execution_count": 25,
   "metadata": {},
   "outputs": [
    {
     "output_type": "execute_result",
     "data": {
      "text/plain": "2012       344\n2013       200\n01/2014     43\n12/2013     40\n09/2013     34\n06/2013     27\n07/2013     22\n10/2013     20\n11/2013     16\n08/2013     12\n05/2013      7\n05/2012      6\n07/2014      2\n02/2014      2\n08/2012      2\n04/2014      2\n04/2013      2\n09/2010      1\n09/2014      1\n2014         1\n2010         1\n07/2012      1\n11/2012      1\n07/2006      1\nName: cease_date, dtype: int64"
     },
     "metadata": {},
     "execution_count": 25
    }
   ],
   "source": [
    "dete_resignations['cease_date'].value_counts()"
   ]
  },
  {
   "cell_type": "code",
   "execution_count": 26,
   "metadata": {},
   "outputs": [],
   "source": [
    "cease_date = dete_resignations['cease_date']"
   ]
  },
  {
   "cell_type": "code",
   "execution_count": 27,
   "metadata": {},
   "outputs": [],
   "source": [
    "pattern = r'(?P<Years>[1-2][0-9]{3})'\n",
    "cease_date_clean = cease_date.str.extract(pattern)"
   ]
  },
  {
   "cell_type": "code",
   "execution_count": 29,
   "metadata": {},
   "outputs": [],
   "source": [
    "dete_resignations['cease_date'] = cease_date_clean['Years'].astype(float)"
   ]
  },
  {
   "cell_type": "code",
   "execution_count": 33,
   "metadata": {},
   "outputs": [
    {
     "output_type": "execute_result",
     "data": {
      "text/plain": "2013.0    380\n2012.0    354\n2014.0     51\n2010.0      2\n2006.0      1\nName: cease_date, dtype: int64"
     },
     "metadata": {},
     "execution_count": 33
    }
   ],
   "source": [
    "dete_resignations['cease_date'].value_counts()"
   ]
  },
  {
   "cell_type": "code",
   "execution_count": 37,
   "metadata": {},
   "outputs": [
    {
     "output_type": "execute_result",
     "data": {
      "text/plain": "1963.0     4\n1965.0     1\n1966.0     1\n1967.0     2\n1968.0     3\n1969.0    10\n1970.0    21\n1971.0    10\n1972.0    12\n1973.0     8\n1974.0    14\n1975.0    21\n1976.0    15\n1977.0    11\n1978.0    15\n1979.0    14\n1980.0    14\n1981.0     9\n1982.0     4\n1983.0     9\n1984.0    10\n1985.0     8\n1986.0    12\n1987.0     7\n1988.0    15\n1989.0    17\n1990.0    20\n1991.0    18\n1992.0    18\n1993.0    13\n1994.0    10\n1995.0    14\n1996.0    19\n1997.0    14\n1998.0    14\n1999.0    19\n2000.0    18\n2001.0    10\n2002.0    15\n2003.0    15\n2004.0    18\n2005.0    20\n2006.0    23\n2007.0    34\n2008.0    31\n2009.0    24\n2010.0    27\n2011.0    40\n2012.0    27\n2013.0    21\nName: dete_start_date, dtype: int64"
     },
     "metadata": {},
     "execution_count": 37
    }
   ],
   "source": [
    "dete_resignations['dete_start_date'].value_counts().sort_index(ascending=True)"
   ]
  },
  {
   "cell_type": "code",
   "execution_count": 35,
   "metadata": {},
   "outputs": [
    {
     "output_type": "execute_result",
     "data": {
      "text/plain": "2011.0    268\n2012.0    235\n2010.0    103\n2013.0     85\n2009.0      4\nName: cease_date, dtype: int64"
     },
     "metadata": {},
     "execution_count": 35
    }
   ],
   "source": [
    "tafe_resignations['cease_date'].value_counts()"
   ]
  },
  {
   "cell_type": "code",
   "execution_count": 39,
   "metadata": {},
   "outputs": [
    {
     "output_type": "execute_result",
     "data": {
      "text/plain": "<matplotlib.axes._subplots.AxesSubplot at 0x1e26849bbe0>"
     },
     "metadata": {},
     "execution_count": 39
    },
    {
     "output_type": "display_data",
     "data": {
      "text/plain": "<Figure size 432x288 with 1 Axes>",
      "image/svg+xml": "<?xml version=\"1.0\" encoding=\"utf-8\" standalone=\"no\"?>\r\n<!DOCTYPE svg PUBLIC \"-//W3C//DTD SVG 1.1//EN\"\r\n  \"http://www.w3.org/Graphics/SVG/1.1/DTD/svg11.dtd\">\r\n<!-- Created with matplotlib (https://matplotlib.org/) -->\r\n<svg height=\"252.29625pt\" version=\"1.1\" viewBox=\"0 0 385.15 252.29625\" width=\"385.15pt\" xmlns=\"http://www.w3.org/2000/svg\" xmlns:xlink=\"http://www.w3.org/1999/xlink\">\r\n <defs>\r\n  <style type=\"text/css\">\r\n*{stroke-linecap:butt;stroke-linejoin:round;}\r\n  </style>\r\n </defs>\r\n <g id=\"figure_1\">\r\n  <g id=\"patch_1\">\r\n   <path d=\"M -0 252.29625 \r\nL 385.15 252.29625 \r\nL 385.15 0 \r\nL -0 0 \r\nz\r\n\" style=\"fill:none;\"/>\r\n  </g>\r\n  <g id=\"axes_1\">\r\n   <g id=\"patch_2\">\r\n    <path d=\"M 39.65 228.14 \r\nL 374.45 228.14 \r\nL 374.45 10.7 \r\nL 39.65 10.7 \r\nz\r\n\" style=\"fill:#ffffff;\"/>\r\n   </g>\r\n   <g id=\"matplotlib.axis_1\">\r\n    <g id=\"xtick_1\">\r\n     <g id=\"line2d_1\">\r\n      <path clip-path=\"url(#pf270d601dc)\" d=\"M 123.35 228.14 \r\nL 123.35 10.7 \r\n\" style=\"fill:none;stroke:#b0b0b0;stroke-linecap:square;stroke-width:0.8;\"/>\r\n     </g>\r\n     <g id=\"line2d_2\">\r\n      <defs>\r\n       <path d=\"M 0 0 \r\nL 0 3.5 \r\n\" id=\"m2c2b2c9776\" style=\"stroke:#000000;stroke-width:0.8;\"/>\r\n      </defs>\r\n      <g>\r\n       <use style=\"stroke:#000000;stroke-width:0.8;\" x=\"123.35\" xlink:href=\"#m2c2b2c9776\" y=\"228.14\"/>\r\n      </g>\r\n     </g>\r\n     <g id=\"text_1\">\r\n      <!-- cease_date -->\r\n      <defs>\r\n       <path d=\"M 48.78125 52.59375 \r\nL 48.78125 44.1875 \r\nQ 44.96875 46.296875 41.140625 47.34375 \r\nQ 37.3125 48.390625 33.40625 48.390625 \r\nQ 24.65625 48.390625 19.8125 42.84375 \r\nQ 14.984375 37.3125 14.984375 27.296875 \r\nQ 14.984375 17.28125 19.8125 11.734375 \r\nQ 24.65625 6.203125 33.40625 6.203125 \r\nQ 37.3125 6.203125 41.140625 7.25 \r\nQ 44.96875 8.296875 48.78125 10.40625 \r\nL 48.78125 2.09375 \r\nQ 45.015625 0.34375 40.984375 -0.53125 \r\nQ 36.96875 -1.421875 32.421875 -1.421875 \r\nQ 20.0625 -1.421875 12.78125 6.34375 \r\nQ 5.515625 14.109375 5.515625 27.296875 \r\nQ 5.515625 40.671875 12.859375 48.328125 \r\nQ 20.21875 56 33.015625 56 \r\nQ 37.15625 56 41.109375 55.140625 \r\nQ 45.0625 54.296875 48.78125 52.59375 \r\nz\r\n\" id=\"DejaVuSans-99\"/>\r\n       <path d=\"M 56.203125 29.59375 \r\nL 56.203125 25.203125 \r\nL 14.890625 25.203125 \r\nQ 15.484375 15.921875 20.484375 11.0625 \r\nQ 25.484375 6.203125 34.421875 6.203125 \r\nQ 39.59375 6.203125 44.453125 7.46875 \r\nQ 49.3125 8.734375 54.109375 11.28125 \r\nL 54.109375 2.78125 \r\nQ 49.265625 0.734375 44.1875 -0.34375 \r\nQ 39.109375 -1.421875 33.890625 -1.421875 \r\nQ 20.796875 -1.421875 13.15625 6.1875 \r\nQ 5.515625 13.8125 5.515625 26.8125 \r\nQ 5.515625 40.234375 12.765625 48.109375 \r\nQ 20.015625 56 32.328125 56 \r\nQ 43.359375 56 49.78125 48.890625 \r\nQ 56.203125 41.796875 56.203125 29.59375 \r\nz\r\nM 47.21875 32.234375 \r\nQ 47.125 39.59375 43.09375 43.984375 \r\nQ 39.0625 48.390625 32.421875 48.390625 \r\nQ 24.90625 48.390625 20.390625 44.140625 \r\nQ 15.875 39.890625 15.1875 32.171875 \r\nz\r\n\" id=\"DejaVuSans-101\"/>\r\n       <path d=\"M 34.28125 27.484375 \r\nQ 23.390625 27.484375 19.1875 25 \r\nQ 14.984375 22.515625 14.984375 16.5 \r\nQ 14.984375 11.71875 18.140625 8.90625 \r\nQ 21.296875 6.109375 26.703125 6.109375 \r\nQ 34.1875 6.109375 38.703125 11.40625 \r\nQ 43.21875 16.703125 43.21875 25.484375 \r\nL 43.21875 27.484375 \r\nz\r\nM 52.203125 31.203125 \r\nL 52.203125 0 \r\nL 43.21875 0 \r\nL 43.21875 8.296875 \r\nQ 40.140625 3.328125 35.546875 0.953125 \r\nQ 30.953125 -1.421875 24.3125 -1.421875 \r\nQ 15.921875 -1.421875 10.953125 3.296875 \r\nQ 6 8.015625 6 15.921875 \r\nQ 6 25.140625 12.171875 29.828125 \r\nQ 18.359375 34.515625 30.609375 34.515625 \r\nL 43.21875 34.515625 \r\nL 43.21875 35.40625 \r\nQ 43.21875 41.609375 39.140625 45 \r\nQ 35.0625 48.390625 27.6875 48.390625 \r\nQ 23 48.390625 18.546875 47.265625 \r\nQ 14.109375 46.140625 10.015625 43.890625 \r\nL 10.015625 52.203125 \r\nQ 14.9375 54.109375 19.578125 55.046875 \r\nQ 24.21875 56 28.609375 56 \r\nQ 40.484375 56 46.34375 49.84375 \r\nQ 52.203125 43.703125 52.203125 31.203125 \r\nz\r\n\" id=\"DejaVuSans-97\"/>\r\n       <path d=\"M 44.28125 53.078125 \r\nL 44.28125 44.578125 \r\nQ 40.484375 46.53125 36.375 47.5 \r\nQ 32.28125 48.484375 27.875 48.484375 \r\nQ 21.1875 48.484375 17.84375 46.4375 \r\nQ 14.5 44.390625 14.5 40.28125 \r\nQ 14.5 37.15625 16.890625 35.375 \r\nQ 19.28125 33.59375 26.515625 31.984375 \r\nL 29.59375 31.296875 \r\nQ 39.15625 29.25 43.1875 25.515625 \r\nQ 47.21875 21.78125 47.21875 15.09375 \r\nQ 47.21875 7.46875 41.1875 3.015625 \r\nQ 35.15625 -1.421875 24.609375 -1.421875 \r\nQ 20.21875 -1.421875 15.453125 -0.5625 \r\nQ 10.6875 0.296875 5.421875 2 \r\nL 5.421875 11.28125 \r\nQ 10.40625 8.6875 15.234375 7.390625 \r\nQ 20.0625 6.109375 24.8125 6.109375 \r\nQ 31.15625 6.109375 34.5625 8.28125 \r\nQ 37.984375 10.453125 37.984375 14.40625 \r\nQ 37.984375 18.0625 35.515625 20.015625 \r\nQ 33.0625 21.96875 24.703125 23.78125 \r\nL 21.578125 24.515625 \r\nQ 13.234375 26.265625 9.515625 29.90625 \r\nQ 5.8125 33.546875 5.8125 39.890625 \r\nQ 5.8125 47.609375 11.28125 51.796875 \r\nQ 16.75 56 26.8125 56 \r\nQ 31.78125 56 36.171875 55.265625 \r\nQ 40.578125 54.546875 44.28125 53.078125 \r\nz\r\n\" id=\"DejaVuSans-115\"/>\r\n       <path d=\"M 50.984375 -16.609375 \r\nL 50.984375 -23.578125 \r\nL -0.984375 -23.578125 \r\nL -0.984375 -16.609375 \r\nz\r\n\" id=\"DejaVuSans-95\"/>\r\n       <path d=\"M 45.40625 46.390625 \r\nL 45.40625 75.984375 \r\nL 54.390625 75.984375 \r\nL 54.390625 0 \r\nL 45.40625 0 \r\nL 45.40625 8.203125 \r\nQ 42.578125 3.328125 38.25 0.953125 \r\nQ 33.9375 -1.421875 27.875 -1.421875 \r\nQ 17.96875 -1.421875 11.734375 6.484375 \r\nQ 5.515625 14.40625 5.515625 27.296875 \r\nQ 5.515625 40.1875 11.734375 48.09375 \r\nQ 17.96875 56 27.875 56 \r\nQ 33.9375 56 38.25 53.625 \r\nQ 42.578125 51.265625 45.40625 46.390625 \r\nz\r\nM 14.796875 27.296875 \r\nQ 14.796875 17.390625 18.875 11.75 \r\nQ 22.953125 6.109375 30.078125 6.109375 \r\nQ 37.203125 6.109375 41.296875 11.75 \r\nQ 45.40625 17.390625 45.40625 27.296875 \r\nQ 45.40625 37.203125 41.296875 42.84375 \r\nQ 37.203125 48.484375 30.078125 48.484375 \r\nQ 22.953125 48.484375 18.875 42.84375 \r\nQ 14.796875 37.203125 14.796875 27.296875 \r\nz\r\n\" id=\"DejaVuSans-100\"/>\r\n       <path d=\"M 18.3125 70.21875 \r\nL 18.3125 54.6875 \r\nL 36.8125 54.6875 \r\nL 36.8125 47.703125 \r\nL 18.3125 47.703125 \r\nL 18.3125 18.015625 \r\nQ 18.3125 11.328125 20.140625 9.421875 \r\nQ 21.96875 7.515625 27.59375 7.515625 \r\nL 36.8125 7.515625 \r\nL 36.8125 0 \r\nL 27.59375 0 \r\nQ 17.1875 0 13.234375 3.875 \r\nQ 9.28125 7.765625 9.28125 18.015625 \r\nL 9.28125 47.703125 \r\nL 2.6875 47.703125 \r\nL 2.6875 54.6875 \r\nL 9.28125 54.6875 \r\nL 9.28125 70.21875 \r\nz\r\n\" id=\"DejaVuSans-116\"/>\r\n      </defs>\r\n      <g transform=\"translate(95.003906 242.738437)scale(0.1 -0.1)\">\r\n       <use xlink:href=\"#DejaVuSans-99\"/>\r\n       <use x=\"54.980469\" xlink:href=\"#DejaVuSans-101\"/>\r\n       <use x=\"116.503906\" xlink:href=\"#DejaVuSans-97\"/>\r\n       <use x=\"177.783203\" xlink:href=\"#DejaVuSans-115\"/>\r\n       <use x=\"229.882812\" xlink:href=\"#DejaVuSans-101\"/>\r\n       <use x=\"291.40625\" xlink:href=\"#DejaVuSans-95\"/>\r\n       <use x=\"341.40625\" xlink:href=\"#DejaVuSans-100\"/>\r\n       <use x=\"404.882812\" xlink:href=\"#DejaVuSans-97\"/>\r\n       <use x=\"466.162109\" xlink:href=\"#DejaVuSans-116\"/>\r\n       <use x=\"505.371094\" xlink:href=\"#DejaVuSans-101\"/>\r\n      </g>\r\n     </g>\r\n    </g>\r\n    <g id=\"xtick_2\">\r\n     <g id=\"line2d_3\">\r\n      <path clip-path=\"url(#pf270d601dc)\" d=\"M 290.75 228.14 \r\nL 290.75 10.7 \r\n\" style=\"fill:none;stroke:#b0b0b0;stroke-linecap:square;stroke-width:0.8;\"/>\r\n     </g>\r\n     <g id=\"line2d_4\">\r\n      <g>\r\n       <use style=\"stroke:#000000;stroke-width:0.8;\" x=\"290.75\" xlink:href=\"#m2c2b2c9776\" y=\"228.14\"/>\r\n      </g>\r\n     </g>\r\n     <g id=\"text_2\">\r\n      <!-- dete_start_date -->\r\n      <defs>\r\n       <path d=\"M 41.109375 46.296875 \r\nQ 39.59375 47.171875 37.8125 47.578125 \r\nQ 36.03125 48 33.890625 48 \r\nQ 26.265625 48 22.1875 43.046875 \r\nQ 18.109375 38.09375 18.109375 28.8125 \r\nL 18.109375 0 \r\nL 9.078125 0 \r\nL 9.078125 54.6875 \r\nL 18.109375 54.6875 \r\nL 18.109375 46.1875 \r\nQ 20.953125 51.171875 25.484375 53.578125 \r\nQ 30.03125 56 36.53125 56 \r\nQ 37.453125 56 38.578125 55.875 \r\nQ 39.703125 55.765625 41.0625 55.515625 \r\nz\r\n\" id=\"DejaVuSans-114\"/>\r\n      </defs>\r\n      <g transform=\"translate(251.542969 242.738437)scale(0.1 -0.1)\">\r\n       <use xlink:href=\"#DejaVuSans-100\"/>\r\n       <use x=\"63.476562\" xlink:href=\"#DejaVuSans-101\"/>\r\n       <use x=\"125\" xlink:href=\"#DejaVuSans-116\"/>\r\n       <use x=\"164.208984\" xlink:href=\"#DejaVuSans-101\"/>\r\n       <use x=\"225.732422\" xlink:href=\"#DejaVuSans-95\"/>\r\n       <use x=\"275.732422\" xlink:href=\"#DejaVuSans-115\"/>\r\n       <use x=\"327.832031\" xlink:href=\"#DejaVuSans-116\"/>\r\n       <use x=\"367.041016\" xlink:href=\"#DejaVuSans-97\"/>\r\n       <use x=\"428.320312\" xlink:href=\"#DejaVuSans-114\"/>\r\n       <use x=\"469.433594\" xlink:href=\"#DejaVuSans-116\"/>\r\n       <use x=\"508.642578\" xlink:href=\"#DejaVuSans-95\"/>\r\n       <use x=\"558.642578\" xlink:href=\"#DejaVuSans-100\"/>\r\n       <use x=\"622.119141\" xlink:href=\"#DejaVuSans-97\"/>\r\n       <use x=\"683.398438\" xlink:href=\"#DejaVuSans-116\"/>\r\n       <use x=\"722.607422\" xlink:href=\"#DejaVuSans-101\"/>\r\n      </g>\r\n     </g>\r\n    </g>\r\n   </g>\r\n   <g id=\"matplotlib.axis_2\">\r\n    <g id=\"ytick_1\">\r\n     <g id=\"line2d_5\">\r\n      <path clip-path=\"url(#pf270d601dc)\" d=\"M 39.65 191.124813 \r\nL 374.45 191.124813 \r\n\" style=\"fill:none;stroke:#b0b0b0;stroke-linecap:square;stroke-width:0.8;\"/>\r\n     </g>\r\n     <g id=\"line2d_6\">\r\n      <defs>\r\n       <path d=\"M 0 0 \r\nL -3.5 0 \r\n\" id=\"m04b6084978\" style=\"stroke:#000000;stroke-width:0.8;\"/>\r\n      </defs>\r\n      <g>\r\n       <use style=\"stroke:#000000;stroke-width:0.8;\" x=\"39.65\" xlink:href=\"#m04b6084978\" y=\"191.124813\"/>\r\n      </g>\r\n     </g>\r\n     <g id=\"text_3\">\r\n      <!-- 1970 -->\r\n      <defs>\r\n       <path d=\"M 12.40625 8.296875 \r\nL 28.515625 8.296875 \r\nL 28.515625 63.921875 \r\nL 10.984375 60.40625 \r\nL 10.984375 69.390625 \r\nL 28.421875 72.90625 \r\nL 38.28125 72.90625 \r\nL 38.28125 8.296875 \r\nL 54.390625 8.296875 \r\nL 54.390625 0 \r\nL 12.40625 0 \r\nz\r\n\" id=\"DejaVuSans-49\"/>\r\n       <path d=\"M 10.984375 1.515625 \r\nL 10.984375 10.5 \r\nQ 14.703125 8.734375 18.5 7.8125 \r\nQ 22.3125 6.890625 25.984375 6.890625 \r\nQ 35.75 6.890625 40.890625 13.453125 \r\nQ 46.046875 20.015625 46.78125 33.40625 \r\nQ 43.953125 29.203125 39.59375 26.953125 \r\nQ 35.25 24.703125 29.984375 24.703125 \r\nQ 19.046875 24.703125 12.671875 31.3125 \r\nQ 6.296875 37.9375 6.296875 49.421875 \r\nQ 6.296875 60.640625 12.9375 67.421875 \r\nQ 19.578125 74.21875 30.609375 74.21875 \r\nQ 43.265625 74.21875 49.921875 64.515625 \r\nQ 56.59375 54.828125 56.59375 36.375 \r\nQ 56.59375 19.140625 48.40625 8.859375 \r\nQ 40.234375 -1.421875 26.421875 -1.421875 \r\nQ 22.703125 -1.421875 18.890625 -0.6875 \r\nQ 15.09375 0.046875 10.984375 1.515625 \r\nz\r\nM 30.609375 32.421875 \r\nQ 37.25 32.421875 41.125 36.953125 \r\nQ 45.015625 41.5 45.015625 49.421875 \r\nQ 45.015625 57.28125 41.125 61.84375 \r\nQ 37.25 66.40625 30.609375 66.40625 \r\nQ 23.96875 66.40625 20.09375 61.84375 \r\nQ 16.21875 57.28125 16.21875 49.421875 \r\nQ 16.21875 41.5 20.09375 36.953125 \r\nQ 23.96875 32.421875 30.609375 32.421875 \r\nz\r\n\" id=\"DejaVuSans-57\"/>\r\n       <path d=\"M 8.203125 72.90625 \r\nL 55.078125 72.90625 \r\nL 55.078125 68.703125 \r\nL 28.609375 0 \r\nL 18.3125 0 \r\nL 43.21875 64.59375 \r\nL 8.203125 64.59375 \r\nz\r\n\" id=\"DejaVuSans-55\"/>\r\n       <path d=\"M 31.78125 66.40625 \r\nQ 24.171875 66.40625 20.328125 58.90625 \r\nQ 16.5 51.421875 16.5 36.375 \r\nQ 16.5 21.390625 20.328125 13.890625 \r\nQ 24.171875 6.390625 31.78125 6.390625 \r\nQ 39.453125 6.390625 43.28125 13.890625 \r\nQ 47.125 21.390625 47.125 36.375 \r\nQ 47.125 51.421875 43.28125 58.90625 \r\nQ 39.453125 66.40625 31.78125 66.40625 \r\nz\r\nM 31.78125 74.21875 \r\nQ 44.046875 74.21875 50.515625 64.515625 \r\nQ 56.984375 54.828125 56.984375 36.375 \r\nQ 56.984375 17.96875 50.515625 8.265625 \r\nQ 44.046875 -1.421875 31.78125 -1.421875 \r\nQ 19.53125 -1.421875 13.0625 8.265625 \r\nQ 6.59375 17.96875 6.59375 36.375 \r\nQ 6.59375 54.828125 13.0625 64.515625 \r\nQ 19.53125 74.21875 31.78125 74.21875 \r\nz\r\n\" id=\"DejaVuSans-48\"/>\r\n      </defs>\r\n      <g transform=\"translate(7.2 194.924032)scale(0.1 -0.1)\">\r\n       <use xlink:href=\"#DejaVuSans-49\"/>\r\n       <use x=\"63.623047\" xlink:href=\"#DejaVuSans-57\"/>\r\n       <use x=\"127.246094\" xlink:href=\"#DejaVuSans-55\"/>\r\n       <use x=\"190.869141\" xlink:href=\"#DejaVuSans-48\"/>\r\n      </g>\r\n     </g>\r\n    </g>\r\n    <g id=\"ytick_2\">\r\n     <g id=\"line2d_7\">\r\n      <path clip-path=\"url(#pf270d601dc)\" d=\"M 39.65 152.365455 \r\nL 374.45 152.365455 \r\n\" style=\"fill:none;stroke:#b0b0b0;stroke-linecap:square;stroke-width:0.8;\"/>\r\n     </g>\r\n     <g id=\"line2d_8\">\r\n      <g>\r\n       <use style=\"stroke:#000000;stroke-width:0.8;\" x=\"39.65\" xlink:href=\"#m04b6084978\" y=\"152.365455\"/>\r\n      </g>\r\n     </g>\r\n     <g id=\"text_4\">\r\n      <!-- 1980 -->\r\n      <defs>\r\n       <path d=\"M 31.78125 34.625 \r\nQ 24.75 34.625 20.71875 30.859375 \r\nQ 16.703125 27.09375 16.703125 20.515625 \r\nQ 16.703125 13.921875 20.71875 10.15625 \r\nQ 24.75 6.390625 31.78125 6.390625 \r\nQ 38.8125 6.390625 42.859375 10.171875 \r\nQ 46.921875 13.96875 46.921875 20.515625 \r\nQ 46.921875 27.09375 42.890625 30.859375 \r\nQ 38.875 34.625 31.78125 34.625 \r\nz\r\nM 21.921875 38.8125 \r\nQ 15.578125 40.375 12.03125 44.71875 \r\nQ 8.5 49.078125 8.5 55.328125 \r\nQ 8.5 64.0625 14.71875 69.140625 \r\nQ 20.953125 74.21875 31.78125 74.21875 \r\nQ 42.671875 74.21875 48.875 69.140625 \r\nQ 55.078125 64.0625 55.078125 55.328125 \r\nQ 55.078125 49.078125 51.53125 44.71875 \r\nQ 48 40.375 41.703125 38.8125 \r\nQ 48.828125 37.15625 52.796875 32.3125 \r\nQ 56.78125 27.484375 56.78125 20.515625 \r\nQ 56.78125 9.90625 50.3125 4.234375 \r\nQ 43.84375 -1.421875 31.78125 -1.421875 \r\nQ 19.734375 -1.421875 13.25 4.234375 \r\nQ 6.78125 9.90625 6.78125 20.515625 \r\nQ 6.78125 27.484375 10.78125 32.3125 \r\nQ 14.796875 37.15625 21.921875 38.8125 \r\nz\r\nM 18.3125 54.390625 \r\nQ 18.3125 48.734375 21.84375 45.5625 \r\nQ 25.390625 42.390625 31.78125 42.390625 \r\nQ 38.140625 42.390625 41.71875 45.5625 \r\nQ 45.3125 48.734375 45.3125 54.390625 \r\nQ 45.3125 60.0625 41.71875 63.234375 \r\nQ 38.140625 66.40625 31.78125 66.40625 \r\nQ 25.390625 66.40625 21.84375 63.234375 \r\nQ 18.3125 60.0625 18.3125 54.390625 \r\nz\r\n\" id=\"DejaVuSans-56\"/>\r\n      </defs>\r\n      <g transform=\"translate(7.2 156.164673)scale(0.1 -0.1)\">\r\n       <use xlink:href=\"#DejaVuSans-49\"/>\r\n       <use x=\"63.623047\" xlink:href=\"#DejaVuSans-57\"/>\r\n       <use x=\"127.246094\" xlink:href=\"#DejaVuSans-56\"/>\r\n       <use x=\"190.869141\" xlink:href=\"#DejaVuSans-48\"/>\r\n      </g>\r\n     </g>\r\n    </g>\r\n    <g id=\"ytick_3\">\r\n     <g id=\"line2d_9\">\r\n      <path clip-path=\"url(#pf270d601dc)\" d=\"M 39.65 113.606096 \r\nL 374.45 113.606096 \r\n\" style=\"fill:none;stroke:#b0b0b0;stroke-linecap:square;stroke-width:0.8;\"/>\r\n     </g>\r\n     <g id=\"line2d_10\">\r\n      <g>\r\n       <use style=\"stroke:#000000;stroke-width:0.8;\" x=\"39.65\" xlink:href=\"#m04b6084978\" y=\"113.606096\"/>\r\n      </g>\r\n     </g>\r\n     <g id=\"text_5\">\r\n      <!-- 1990 -->\r\n      <g transform=\"translate(7.2 117.405315)scale(0.1 -0.1)\">\r\n       <use xlink:href=\"#DejaVuSans-49\"/>\r\n       <use x=\"63.623047\" xlink:href=\"#DejaVuSans-57\"/>\r\n       <use x=\"127.246094\" xlink:href=\"#DejaVuSans-57\"/>\r\n       <use x=\"190.869141\" xlink:href=\"#DejaVuSans-48\"/>\r\n      </g>\r\n     </g>\r\n    </g>\r\n    <g id=\"ytick_4\">\r\n     <g id=\"line2d_11\">\r\n      <path clip-path=\"url(#pf270d601dc)\" d=\"M 39.65 74.846738 \r\nL 374.45 74.846738 \r\n\" style=\"fill:none;stroke:#b0b0b0;stroke-linecap:square;stroke-width:0.8;\"/>\r\n     </g>\r\n     <g id=\"line2d_12\">\r\n      <g>\r\n       <use style=\"stroke:#000000;stroke-width:0.8;\" x=\"39.65\" xlink:href=\"#m04b6084978\" y=\"74.846738\"/>\r\n      </g>\r\n     </g>\r\n     <g id=\"text_6\">\r\n      <!-- 2000 -->\r\n      <defs>\r\n       <path d=\"M 19.1875 8.296875 \r\nL 53.609375 8.296875 \r\nL 53.609375 0 \r\nL 7.328125 0 \r\nL 7.328125 8.296875 \r\nQ 12.9375 14.109375 22.625 23.890625 \r\nQ 32.328125 33.6875 34.8125 36.53125 \r\nQ 39.546875 41.84375 41.421875 45.53125 \r\nQ 43.3125 49.21875 43.3125 52.78125 \r\nQ 43.3125 58.59375 39.234375 62.25 \r\nQ 35.15625 65.921875 28.609375 65.921875 \r\nQ 23.96875 65.921875 18.8125 64.3125 \r\nQ 13.671875 62.703125 7.8125 59.421875 \r\nL 7.8125 69.390625 \r\nQ 13.765625 71.78125 18.9375 73 \r\nQ 24.125 74.21875 28.421875 74.21875 \r\nQ 39.75 74.21875 46.484375 68.546875 \r\nQ 53.21875 62.890625 53.21875 53.421875 \r\nQ 53.21875 48.921875 51.53125 44.890625 \r\nQ 49.859375 40.875 45.40625 35.40625 \r\nQ 44.1875 33.984375 37.640625 27.21875 \r\nQ 31.109375 20.453125 19.1875 8.296875 \r\nz\r\n\" id=\"DejaVuSans-50\"/>\r\n      </defs>\r\n      <g transform=\"translate(7.2 78.645957)scale(0.1 -0.1)\">\r\n       <use xlink:href=\"#DejaVuSans-50\"/>\r\n       <use x=\"63.623047\" xlink:href=\"#DejaVuSans-48\"/>\r\n       <use x=\"127.246094\" xlink:href=\"#DejaVuSans-48\"/>\r\n       <use x=\"190.869141\" xlink:href=\"#DejaVuSans-48\"/>\r\n      </g>\r\n     </g>\r\n    </g>\r\n    <g id=\"ytick_5\">\r\n     <g id=\"line2d_13\">\r\n      <path clip-path=\"url(#pf270d601dc)\" d=\"M 39.65 36.08738 \r\nL 374.45 36.08738 \r\n\" style=\"fill:none;stroke:#b0b0b0;stroke-linecap:square;stroke-width:0.8;\"/>\r\n     </g>\r\n     <g id=\"line2d_14\">\r\n      <g>\r\n       <use style=\"stroke:#000000;stroke-width:0.8;\" x=\"39.65\" xlink:href=\"#m04b6084978\" y=\"36.08738\"/>\r\n      </g>\r\n     </g>\r\n     <g id=\"text_7\">\r\n      <!-- 2010 -->\r\n      <g transform=\"translate(7.2 39.886598)scale(0.1 -0.1)\">\r\n       <use xlink:href=\"#DejaVuSans-50\"/>\r\n       <use x=\"63.623047\" xlink:href=\"#DejaVuSans-48\"/>\r\n       <use x=\"127.246094\" xlink:href=\"#DejaVuSans-49\"/>\r\n       <use x=\"190.869141\" xlink:href=\"#DejaVuSans-48\"/>\r\n      </g>\r\n     </g>\r\n    </g>\r\n   </g>\r\n   <g id=\"line2d_15\">\r\n    <path clip-path=\"url(#pf270d601dc)\" d=\"M 110.795 28.335508 \r\nL 135.905 28.335508 \r\nL 135.905 24.459572 \r\nL 110.795 24.459572 \r\nL 110.795 28.335508 \r\n\" style=\"fill:none;stroke:#1f77b4;stroke-linecap:square;\"/>\r\n   </g>\r\n   <g id=\"line2d_16\">\r\n    <path clip-path=\"url(#pf270d601dc)\" d=\"M 123.35 28.335508 \r\nL 123.35 28.335508 \r\n\" style=\"fill:none;stroke:#1f77b4;stroke-linecap:square;\"/>\r\n   </g>\r\n   <g id=\"line2d_17\">\r\n    <path clip-path=\"url(#pf270d601dc)\" d=\"M 123.35 24.459572 \r\nL 123.35 20.583636 \r\n\" style=\"fill:none;stroke:#1f77b4;stroke-linecap:square;\"/>\r\n   </g>\r\n   <g id=\"line2d_18\">\r\n    <path clip-path=\"url(#pf270d601dc)\" d=\"M 117.0725 28.335508 \r\nL 129.6275 28.335508 \r\n\" style=\"fill:none;stroke:#000000;stroke-linecap:square;\"/>\r\n   </g>\r\n   <g id=\"line2d_19\">\r\n    <path clip-path=\"url(#pf270d601dc)\" d=\"M 117.0725 20.583636 \r\nL 129.6275 20.583636 \r\n\" style=\"fill:none;stroke:#000000;stroke-linecap:square;\"/>\r\n   </g>\r\n   <g id=\"line2d_20\">\r\n    <defs>\r\n     <path d=\"M 0 3 \r\nC 0.795609 3 1.55874 2.683901 2.12132 2.12132 \r\nC 2.683901 1.55874 3 0.795609 3 0 \r\nC 3 -0.795609 2.683901 -1.55874 2.12132 -2.12132 \r\nC 1.55874 -2.683901 0.795609 -3 0 -3 \r\nC -0.795609 -3 -1.55874 -2.683901 -2.12132 -2.12132 \r\nC -2.683901 -1.55874 -3 -0.795609 -3 0 \r\nC -3 0.795609 -2.683901 1.55874 -2.12132 2.12132 \r\nC -1.55874 2.683901 -0.795609 3 0 3 \r\nz\r\n\" id=\"m54ba4adc8e\" style=\"stroke:#000000;\"/>\r\n    </defs>\r\n    <g clip-path=\"url(#pf270d601dc)\">\r\n     <use style=\"fill-opacity:0;stroke:#000000;\" x=\"123.35\" xlink:href=\"#m54ba4adc8e\" y=\"36.08738\"/>\r\n     <use style=\"fill-opacity:0;stroke:#000000;\" x=\"123.35\" xlink:href=\"#m54ba4adc8e\" y=\"36.08738\"/>\r\n     <use style=\"fill-opacity:0;stroke:#000000;\" x=\"123.35\" xlink:href=\"#m54ba4adc8e\" y=\"51.591123\"/>\r\n    </g>\r\n   </g>\r\n   <g id=\"line2d_21\">\r\n    <path clip-path=\"url(#pf270d601dc)\" d=\"M 278.195 144.613583 \r\nL 303.305 144.613583 \r\nL 303.305 47.715187 \r\nL 278.195 47.715187 \r\nL 278.195 144.613583 \r\n\" style=\"fill:none;stroke:#1f77b4;stroke-linecap:square;\"/>\r\n   </g>\r\n   <g id=\"line2d_22\">\r\n    <path clip-path=\"url(#pf270d601dc)\" d=\"M 290.75 144.613583 \r\nL 290.75 218.256364 \r\n\" style=\"fill:none;stroke:#1f77b4;stroke-linecap:square;\"/>\r\n   </g>\r\n   <g id=\"line2d_23\">\r\n    <path clip-path=\"url(#pf270d601dc)\" d=\"M 290.75 47.715187 \r\nL 290.75 24.459572 \r\n\" style=\"fill:none;stroke:#1f77b4;stroke-linecap:square;\"/>\r\n   </g>\r\n   <g id=\"line2d_24\">\r\n    <path clip-path=\"url(#pf270d601dc)\" d=\"M 284.4725 218.256364 \r\nL 297.0275 218.256364 \r\n\" style=\"fill:none;stroke:#000000;stroke-linecap:square;\"/>\r\n   </g>\r\n   <g id=\"line2d_25\">\r\n    <path clip-path=\"url(#pf270d601dc)\" d=\"M 284.4725 24.459572 \r\nL 297.0275 24.459572 \r\n\" style=\"fill:none;stroke:#000000;stroke-linecap:square;\"/>\r\n   </g>\r\n   <g id=\"line2d_26\"/>\r\n   <g id=\"line2d_27\">\r\n    <path clip-path=\"url(#pf270d601dc)\" d=\"M 110.795 24.459572 \r\nL 135.905 24.459572 \r\n\" style=\"fill:none;stroke:#2ca02c;stroke-linecap:square;\"/>\r\n   </g>\r\n   <g id=\"line2d_28\">\r\n    <path clip-path=\"url(#pf270d601dc)\" d=\"M 278.195 90.350481 \r\nL 303.305 90.350481 \r\n\" style=\"fill:none;stroke:#2ca02c;stroke-linecap:square;\"/>\r\n   </g>\r\n   <g id=\"patch_3\">\r\n    <path d=\"M 39.65 228.14 \r\nL 39.65 10.7 \r\n\" style=\"fill:none;stroke:#000000;stroke-linecap:square;stroke-linejoin:miter;stroke-width:0.8;\"/>\r\n   </g>\r\n   <g id=\"patch_4\">\r\n    <path d=\"M 374.45 228.14 \r\nL 374.45 10.7 \r\n\" style=\"fill:none;stroke:#000000;stroke-linecap:square;stroke-linejoin:miter;stroke-width:0.8;\"/>\r\n   </g>\r\n   <g id=\"patch_5\">\r\n    <path d=\"M 39.65 228.14 \r\nL 374.45 228.14 \r\n\" style=\"fill:none;stroke:#000000;stroke-linecap:square;stroke-linejoin:miter;stroke-width:0.8;\"/>\r\n   </g>\r\n   <g id=\"patch_6\">\r\n    <path d=\"M 39.65 10.7 \r\nL 374.45 10.7 \r\n\" style=\"fill:none;stroke:#000000;stroke-linecap:square;stroke-linejoin:miter;stroke-width:0.8;\"/>\r\n   </g>\r\n  </g>\r\n </g>\r\n <defs>\r\n  <clipPath id=\"pf270d601dc\">\r\n   <rect height=\"217.44\" width=\"334.8\" x=\"39.65\" y=\"10.7\"/>\r\n  </clipPath>\r\n </defs>\r\n</svg>\r\n",
      "image/png": "[encoded data removed]"
     },
     "metadata": {
      "needs_background": "light"
     }
    }
   ],
   "source": [
    "dete_resignations.boxplot(column=['cease_date','dete_start_date'])"
   ]
  },
  {
   "cell_type": "code",
   "execution_count": null,
   "metadata": {},
   "outputs": [],
   "source": []
  }
 ],
 "metadata": {
  "language_info": {
   "codemirror_mode": {
    "name": "ipython",
    "version": 3
   },
   "file_extension": ".py",
   "mimetype": "text/x-python",
   "name": "python",
   "nbconvert_exporter": "python",
   "pygments_lexer": "ipython3",
   "version": "3.7.3-final"
  },
  "orig_nbformat": 2,
  "kernelspec": {
   "name": "python3",
   "display_name": "Python 3"
  }
 },
 "nbformat": 4,
 "nbformat_minor": 2
}